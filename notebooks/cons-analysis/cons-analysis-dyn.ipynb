{
 "cells": [
  {
   "cell_type": "markdown",
   "metadata": {},
   "source": [
    "# Energy Consumption Analysis for 15-minute Interval Data\n",
    "\n",
    "This notebook provides a comprehensive analysis of energy consumption data that is recorded at 15-minute intervals. Our goal is to derive meaningful insights from the data and answer specific questions related to energy usage patterns.\n",
    "\n",
    "**Key Objectives:**\n",
    "1. Determine annual energy consumption.\n",
    "2. Calculate the annual cost based on a given electricity price per kWh.\n",
    "3. Analyze daily consumption patterns and monthly breakdowns.\n",
    "4. Study consumption differences across days of the week.\n",
    "5. Examine intra-day consumption distribution.\n",
    "6. Identify days with peak consumption at 15-minute intervals.\n",
    "7. Highlight the top 5 days with the highest instantaneous power usage.\n",
    "8. Create a histogram to visualize quarterly consumption values relative to the total.\n",
    "9. Compare solar panel production against consumption.\n",
    "10. Optimize and understand car charger energy consumption."
   ]
  },
  {
   "cell_type": "markdown",
   "metadata": {},
   "source": [
    "## Beginning the Analysis\n",
    "\n",
    "In this analysis, we examine the energy consumption data from multiple meters. The dataset provides consumption values in 15-minute intervals. Our goal is to preprocess this data and derive valuable insights from various perspectives, such as annual, daily, and intra-day consumption patterns."
   ]
  },
  {
   "cell_type": "markdown",
   "metadata": {},
   "source": [
    "### Setting up the Environment\n",
    "\n",
    "To ensure our analysis runs smoothly, we've taken the following steps:\n",
    "\n",
    "**Created a Virtual Environment:** This helps to keep our project dependencies separate from other Python projects. By using a virtual environment, we ensure that our project runs consistently across different setups.\n",
    "\n",
    "**Installed Necessary Libraries:** Our project leverages several Python libraries that aid in data manipulation, visualization, and analysis. These libraries have been automatically installed in the virtual environment to guarantee the reproducibility of our analysis.\n",
    "\n",
    "**Imported Libraries:** The required libraries for this notebook have been imported upfront to streamline the analysis process. These libraries provide a variety of functions and tools essential for our tasks.\n",
    "\n",
    "**Importing Custom Utility Functions:** To modularize our analysis and promote code reusability, we've defined custom functions in separate Python files. In this section, we'll import these utility functions to be used throughout our notebook.\n",
    "\n",
    "**Loaded Configuration:** Constants and configurations, such as file paths and threshold values, are sourced from a .env file. This approach promotes better code management and security\n"
   ]
  },
  {
   "cell_type": "markdown",
   "metadata": {},
   "source": [
    "### Activating the Virtual Environment\n",
    "\n",
    "Once you've set up the project with Poetry, you can activate the virtual environment across any operating system using the following command:\n",
    "\n",
    "```bash\n",
    "poetry shell\n",
    "```\n",
    "\n",
    "This command will start a new shell session with the virtual environment activated. All the dependencies installed via Poetry will be available in this shell session.\n",
    "\n",
    "Then you have to install Jupyter Kernel for the virtual environment:\n",
    "\n",
    "```bash\n",
    "python -m ipykernel install --user --name=zengrid-analysis-poetry\n",
    "```"
   ]
  },
  {
   "cell_type": "markdown",
   "metadata": {},
   "source": [
    "### Importing Libraries\n",
    "\n"
   ]
  },
  {
   "cell_type": "code",
   "execution_count": null,
   "metadata": {},
   "outputs": [],
   "source": [
    "# ---------------\n",
    "# IMPORTING LIBRARIES\n",
    "# ---------------\n",
    "\n",
    "# Standard Libraries\n",
    "import os\n",
    "import calendar\n",
    "import re\n",
    "import sys\n",
    "import logging\n",
    "\n",
    "# Data Processing and Analysis Libraries\n",
    "import pandas as pd\n",
    "import numpy as np\n",
    "\n",
    "# Visualization Libraries\n",
    "import matplotlib.pyplot as plt\n",
    "import matplotlib.dates as mdates\n",
    "import seaborn as sns\n",
    "\n",
    "# Configuration and Environment Libraries\n",
    "from dotenv import load_dotenv"
   ]
  },
  {
   "cell_type": "markdown",
   "metadata": {},
   "source": [
    "### Creating the .env file"
   ]
  },
  {
   "cell_type": "code",
   "execution_count": null,
   "metadata": {},
   "outputs": [],
   "source": [
    "# ---------------\n",
    "# SETTING UP .ENV FILE\n",
    "# ---------------\n",
    "\n",
    "sys.path.append('../..')  # Adjust the path to ensure it's pointing to the directory containing environment_setup.py.\n",
    "import src # Contains custom utility functions for our analysis\n",
    "from utils import data_utils as du\n",
    "\n",
    "\n",
    "# Constants for column endings\n",
    "SOLAR_PANEL_SUFFIX = \"/PV\"\n",
    "ELECTRIC_CAR_CHARGER_SUFFIX = \"/ECC\"\n",
    "BATTERY_SUFFIX = \"/BAT\"\n",
    "\n",
    "# Default values for .env file\n",
    "SOURCE_FILE_PATH = \"YOUR_FILE_PATH_HERE\"\n",
    "EXPORT_FILE_PATH=\"YOUR_EXPORT_DIR_HERE\"\n",
    "PRICE_PER_KWH = 0.000\n",
    "THRESHOLD_FOR_OUTLIERS = 1.5\n",
    "\n",
    "# Check if the user wants to overwrite the existing .env file\n",
    "force_create = input(\"Do you want to overwrite the existing .env file if it exists? (yes/no): \").strip().lower() == \"yes\"\n",
    "\n",
    "# Create or update the .env file with configuration values\n",
    "src.create_dotenv_file_cons_analysis(force_create, SOLAR_PANEL_SUFFIX, ELECTRIC_CAR_CHARGER_SUFFIX, BATTERY_SUFFIX, SOURCE_FILE_PATH, EXPORT_FILE_PATH, PRICE_PER_KWH, THRESHOLD_FOR_OUTLIERS)\n",
    "\n",
    "# TODO: Expand on adding currency. Consider incorporating different currencies and conversion rates?\n",
    "# TODO: Add RoI, price for solar panels, and other related metrics to provide a more comprehensive financial analysis."
   ]
  },
  {
   "cell_type": "markdown",
   "metadata": {},
   "source": [
    "### Configuring variables"
   ]
  },
  {
   "cell_type": "code",
   "execution_count": null,
   "metadata": {},
   "outputs": [],
   "source": [
    "# ---------------\n",
    "# LOADING CONSTANTS FROM .ENV\n",
    "# ---------------\n",
    "# Loading constants and configurations stored in the .env file.\n",
    "# BEFORE THIS STEP MODIFY THE .env FILE WITH YOUR OWN VALUES\n",
    "\n",
    "# Load values from .env\n",
    "load_dotenv()\n",
    "\n",
    "# Define suffixes\n",
    "SOLAR_PANEL_SUFFIX = os.getenv('SOLAR_PANEL_SUFFIX', '/PV')  # default value if not found\n",
    "ELECTRIC_CAR_CHARGER_SUFFIX = os.getenv('ELECTRIC_CAR_CHARGER_SUFFIX', '/ECC')  # default value if not found\n",
    "BATTERY_SUFFIX = os.getenv('BATTERY_SUFFIX', '/BAT')  # default value if not found\n",
    "\n",
    "# Define constants\n",
    "SOURCE_FILE_PATH = os.getenv('SOURCE_FILE_PATH', 'FILE_PATH_HERE')  # default path if not found\n",
    "EXPORT_FILE_PATH = os.getenv('EXPORT_FILE_PATH', './exports') # default path if not found\n",
    "PRICE_PER_KWH = float(os.getenv('PRICE_PER_KWH', '183.5'))  # default value if not found\n",
    "THRESHOLD_FOR_OUTLIERS = float(os.getenv('THRESHOLD_FOR_OUTLIERS', '1.5'))  # default value if not found\n"
   ]
  },
  {
   "cell_type": "markdown",
   "metadata": {},
   "source": [
    "### Logger"
   ]
  },
  {
   "cell_type": "code",
   "execution_count": null,
   "metadata": {},
   "outputs": [],
   "source": [
    "logging.getLogger('matplotlib').setLevel(logging.WARNING)"
   ]
  },
  {
   "cell_type": "markdown",
   "metadata": {},
   "source": [
    "### Task 0: Data Preprocessing\n",
    "\n",
    "The raw dataset contains date-time information in a non-standard format. In this step:\n",
    "\n",
    "1. The dataset is loaded into a DataFrame.\n",
    "2. A new DataFrame is created to hold the processed data.\n",
    "3. The combined date-time column is split into separate date, start time, and end time values.\n",
    "4. These separated values are then used to create two new columns: TimePeriodStart and TimePeriodEnd, which represent the start and end of each 15-minute interval in a standard datetime format.\n",
    "5. The original combined date-time column is dropped."
   ]
  },
  {
   "cell_type": "markdown",
   "metadata": {},
   "source": [
    "#### Load the data using the defined function"
   ]
  },
  {
   "cell_type": "code",
   "execution_count": null,
   "metadata": {},
   "outputs": [],
   "source": [
    "processed_data = du.load_and_preprocess_data(SOURCE_FILE_PATH)"
   ]
  },
  {
   "cell_type": "markdown",
   "metadata": {},
   "source": [
    "#### Extract and process the date and time information"
   ]
  },
  {
   "cell_type": "code",
   "execution_count": null,
   "metadata": {},
   "outputs": [],
   "source": [
    "# Extracting date, start time, and end time from 'Időszeletek'\n",
    "date = processed_data['Időszeletek'].str.split(' ').str[0]\n",
    "start_time = processed_data['Időszeletek'].str.split(' - ').str[0].str.split(' ').str[1]\n",
    "end_time = processed_data['Időszeletek'].str.split(' - ').str[1]\n",
    "\n",
    "processed_data['TimePeriodStart'] = date + ' ' + start_time\n",
    "processed_data['TimePeriodEnd'] = date + ' ' + end_time\n",
    "\n",
    "# Adjust for '24:00' in TimePeriodEnd\n",
    "mask_24 = processed_data['TimePeriodEnd'].str.endswith('24:00')\n",
    "processed_data.loc[mask_24, 'TimePeriodEnd'] = (pd.to_datetime(processed_data.loc[mask_24, 'TimePeriodEnd'].str.split(' ').str[0]) + pd.Timedelta(days=1)).dt.strftime('%Y.%m.%d') + ' 00:00'\n",
    "\n",
    "processed_data['TimePeriodStart'] = pd.to_datetime(processed_data['TimePeriodStart'], format='%Y.%m.%d %H:%M')\n",
    "processed_data['TimePeriodEnd'] = pd.to_datetime(processed_data['TimePeriodEnd'], format='%Y.%m.%d %H:%M')\n",
    "\n",
    "processed_data.drop('Időszeletek', axis=1, inplace=True)\n",
    "\n",
    "# Replace NaN values with 0\n",
    "processed_data.fillna(0, inplace=True)"
   ]
  },
  {
   "cell_type": "markdown",
   "metadata": {},
   "source": [
    "#### Add derived columns"
   ]
  },
  {
   "cell_type": "code",
   "execution_count": null,
   "metadata": {},
   "outputs": [],
   "source": [
    "# Extracting DayOfWeek, Month, Hour, and Minute from 'TimePeriodStart'\n",
    "processed_data['DayOfWeek'] = processed_data['TimePeriodStart'].dt.dayofweek\n",
    "processed_data['Month'] = processed_data['TimePeriodStart'].dt.month\n",
    "processed_data['Hour'] = processed_data['TimePeriodStart'].dt.hour\n",
    "processed_data['Minute'] = processed_data['TimePeriodStart'].dt.minute"
   ]
  },
  {
   "cell_type": "markdown",
   "metadata": {},
   "source": [
    "#### Identify columns related to different types of meters"
   ]
  },
  {
   "cell_type": "code",
   "execution_count": null,
   "metadata": {},
   "outputs": [],
   "source": [
    "consumption_meter_columns = [col for col in processed_data.columns if SOLAR_PANEL_SUFFIX not in col and ELECTRIC_CAR_CHARGER_SUFFIX not in col and BATTERY_SUFFIX not in col and 'TimePeriod' not in col and col != 'DayOfWeek' and col != 'Month' and col != 'Hour' and col != 'Minute']\n",
    "solar_panel_columns = [col for col in processed_data.columns if SOLAR_PANEL_SUFFIX in col]\n",
    "electric_car_charger_columns = [col for col in processed_data.columns if ELECTRIC_CAR_CHARGER_SUFFIX in col]\n",
    "battery_columns = [col for col in processed_data.columns if BATTERY_SUFFIX in col]"
   ]
  },
  {
   "cell_type": "markdown",
   "metadata": {},
   "source": [
    "#### Combine consumption meters and solar panels"
   ]
  },
  {
   "cell_type": "code",
   "execution_count": null,
   "metadata": {},
   "outputs": [],
   "source": [
    "# Creating \"Pods\" dictionary, \"Pods\" are the pair of Consumption Meters and Solar Panels, not every Consumption Meter has a Solar Panel\n",
    "pods = {}\n",
    "\n",
    "for meter in consumption_meter_columns:\n",
    "    solar_panel = meter + SOLAR_PANEL_SUFFIX\n",
    "    if solar_panel in solar_panel_columns:\n",
    "        pods[meter] = (meter, solar_panel)\n",
    "    else:\n",
    "        pods[meter] = (meter, None)"
   ]
  },
  {
   "cell_type": "markdown",
   "metadata": {},
   "source": [
    "#### Variables for analysis"
   ]
  },
  {
   "cell_type": "code",
   "execution_count": null,
   "metadata": {},
   "outputs": [],
   "source": [
    "all_consumption_columns = consumption_meter_columns + electric_car_charger_columns\n",
    "all_columns_of_interest = all_consumption_columns + solar_panel_columns + battery_columns\n",
    "days = ['Monday', 'Tuesday', 'Wednesday', 'Thursday', 'Friday', 'Saturday', 'Sunday']"
   ]
  },
  {
   "cell_type": "markdown",
   "metadata": {},
   "source": [
    "OLD CODE:"
   ]
  },
  {
   "cell_type": "code",
   "execution_count": null,
   "metadata": {},
   "outputs": [],
   "source": [
    "# # Load data from source file\n",
    "# processed_data = du.load_and_preprocess_data(SOURCE_FILE_PATH)\n",
    "\n",
    "# # Extracting date, start time, and end time from 'Időszeletek'\n",
    "# date = processed_data['Időszeletek'].str.split(' ').str[0]\n",
    "# start_time = processed_data['Időszeletek'].str.split(' - ').str[0].str.split(' ').str[1]\n",
    "# end_time = processed_data['Időszeletek'].str.split(' - ').str[1]\n",
    "\n",
    "# processed_data['TimePeriodStart'] = date + ' ' + start_time\n",
    "# processed_data['TimePeriodEnd'] = date + ' ' + end_time\n",
    "\n",
    "# # Adjust for '24:00' in TimePeriodEnd\n",
    "# mask_24 = processed_data['TimePeriodEnd'].str.endswith('24:00')\n",
    "# processed_data.loc[mask_24, 'TimePeriodEnd'] = (pd.to_datetime(processed_data.loc[mask_24, 'TimePeriodEnd'].str.split(' ').str[0]) + pd.Timedelta(days=1)).dt.strftime('%Y.%m.%d') + ' 00:00'\n",
    "\n",
    "# processed_data['TimePeriodStart'] = pd.to_datetime(processed_data['TimePeriodStart'], format='%Y.%m.%d %H:%M')\n",
    "# processed_data['TimePeriodEnd'] = pd.to_datetime(processed_data['TimePeriodEnd'], format='%Y.%m.%d %H:%M')\n",
    "\n",
    "# processed_data.drop('Időszeletek', axis=1, inplace=True)\n",
    "\n",
    "# # Replace NaN values with 0\n",
    "# processed_data.fillna(0, inplace=True)\n",
    "\n",
    "# # Extracting DayOfWeek, Month, Hour, and Minute from 'TimePeriodStart'\n",
    "# processed_data['DayOfWeek'] = processed_data['TimePeriodStart'].dt.dayofweek\n",
    "# processed_data['Month'] = processed_data['TimePeriodStart'].dt.month\n",
    "# processed_data['Hour'] = processed_data['TimePeriodStart'].dt.hour\n",
    "# processed_data['Minute'] = processed_data['TimePeriodStart'].dt.minute\n",
    "\n",
    "# # Task 3: Distinguish between different meters\n",
    "# consumption_meter_columns = [col for col in processed_data.columns if SOLAR_PANEL_SUFFIX not in col and ELECTRIC_CAR_CHARGER_SUFFIX not in col and BATTERY_SUFFIX not in col and 'TimePeriod' not in col and col != 'DayOfWeek' and col != 'Month' and col != 'Hour' and col != 'Minute']\n",
    "# solar_panel_columns = [col for col in processed_data.columns if SOLAR_PANEL_SUFFIX in col]\n",
    "# electric_car_charger_columns = [col for col in processed_data.columns if ELECTRIC_CAR_CHARGER_SUFFIX in col]\n",
    "# battery_columns = [col for col in processed_data.columns if BATTERY_SUFFIX in col]\n",
    "\n",
    "# # Task 4: Create a dictionary for the different meters\n",
    "# all_consumption_columns = consumption_meter_columns + electric_car_charger_columns\n",
    "# all_columns_of_interest = all_consumption_columns + solar_panel_columns + battery_columns\n",
    "\n",
    "# # Task 5: Creating a list of days\n",
    "# days = ['Monday', 'Tuesday', 'Wednesday', 'Thursday', 'Friday', 'Saturday', 'Sunday']\n",
    "\n",
    "# # Creating \"Pods\" dictionary, \"Pods\" are the pair of Consumption Meters and Solar Panels, not every Consumption Meter has a Solar Panel\n",
    "# pods = {}\n",
    "\n",
    "# for meter in consumption_meter_columns:\n",
    "#     solar_panel = meter + SOLAR_PANEL_SUFFIX\n",
    "#     if solar_panel in solar_panel_columns:\n",
    "#         pods[meter] = (meter, solar_panel)\n",
    "#     else:\n",
    "#         pods[meter] = (meter, None)"
   ]
  },
  {
   "cell_type": "markdown",
   "metadata": {},
   "source": [
    "#### Debug Preprocessing Data"
   ]
  },
  {
   "cell_type": "code",
   "execution_count": null,
   "metadata": {},
   "outputs": [],
   "source": [
    "# Inspect the dataframe\n",
    "# du.inspect_dataframe(processed_data, 10)\n",
    "\n",
    "# Testing the pods\n",
    "print(\"\\nPod Verification:\")\n",
    "for meter, solar_panel in pods.items():\n",
    "    if solar_panel:\n",
    "        print(f\"Pod: {meter} with Solar Panel: {solar_panel}\")\n",
    "    else:\n",
    "        print(f\"Pod: {meter} without Solar Panel\")"
   ]
  },
  {
   "cell_type": "markdown",
   "metadata": {},
   "source": [
    "#### Downloading the Dataset"
   ]
  },
  {
   "cell_type": "code",
   "execution_count": null,
   "metadata": {},
   "outputs": [],
   "source": [
    "filename = \"processed_df\"\n",
    "# du.export_dataframe_to_excel(processed_data, filename, EXPORT_FILE_PATH)"
   ]
  },
  {
   "cell_type": "markdown",
   "metadata": {},
   "source": [
    "### Task 1: Calculate annual consumption\n",
    "This task involves understanding the annual consumption of each meter and calculating associated costs:\n",
    "\n",
    "1. The annual consumption for each meter is computed by summing up its respective values.\n",
    "2. The annual cost for each meter is derived using a given price per kWh.\n",
    "3. Average daily consumption is computed for each 15-minute interval throughout the entire year.\n",
    "4. Average monthly consumption is calculated for each 15-minute interval, grouped by month.\n",
    "5. A visualization is created to showcase the average consumption per hour throughout the year."
   ]
  },
  {
   "cell_type": "markdown",
   "metadata": {},
   "source": [
    "#### 1.1 Calculate the annial consumption and cost for each meter"
   ]
  },
  {
   "cell_type": "code",
   "execution_count": null,
   "metadata": {},
   "outputs": [],
   "source": [
    "# Step 1: Calculate annual consumption for each type of meter\n",
    "annual_consumption = processed_data[consumption_meter_columns].sum()\n",
    "\n",
    "# Step 2: Calculate annual costs\n",
    "annual_costs = annual_consumption * PRICE_PER_KWH"
   ]
  },
  {
   "cell_type": "markdown",
   "metadata": {},
   "source": [
    "#### 1.2 Claculate the Average Daily Consumption"
   ]
  },
  {
   "cell_type": "code",
   "execution_count": null,
   "metadata": {},
   "outputs": [],
   "source": [
    "# Step 3: Average daily consumption for each 15-minute interval\n",
    "avg_daily_consumption = processed_data.groupby(['Hour', 'Minute']).mean().reset_index()"
   ]
  },
  {
   "cell_type": "markdown",
   "metadata": {},
   "source": [
    "#### 1.3 Calculate the Average Monthly Consumption"
   ]
  },
  {
   "cell_type": "code",
   "execution_count": null,
   "metadata": {},
   "outputs": [],
   "source": [
    "# Step 4: Average daily consumption for each 15-minute interval grouped by month\n",
    "avg_monthly_consumption = processed_data.groupby(['Month', 'Hour', 'Minute']).mean().reset_index()\n",
    "\n",
    "# Step 5: Additional calculations for plotting\n",
    "avg_monthly_consumption['Time'] = avg_monthly_consumption['Hour'].astype(str).str.zfill(2) + ':' + avg_monthly_consumption['Minute'].astype(str).str.zfill(2)\n",
    "avg_monthly_consumption['PlotTime'] = pd.to_datetime('2000-01-01 ' + avg_monthly_consumption['Time'])\n",
    "avg_monthly_consumption['TotalConsumption'] = avg_monthly_consumption[consumption_meter_columns + electric_car_charger_columns].sum(axis=1)\n",
    "avg_monthly_consumption['SolarContribution'] = avg_monthly_consumption[solar_panel_columns].sum(axis=1)\n",
    "avg_monthly_consumption['NetConsumption'] = avg_monthly_consumption['TotalConsumption'] - avg_monthly_consumption['SolarContribution']"
   ]
  },
  {
   "cell_type": "markdown",
   "metadata": {},
   "source": [
    "#### 1.4 Plot the annual consumption for each meter"
   ]
  },
  {
   "cell_type": "code",
   "execution_count": null,
   "metadata": {},
   "outputs": [],
   "source": [
    "# Break down the plotting into a separate function for clarity\n",
    "def plot_monthly_consumption(data, consumption_columns, solar_columns, electric_car_columns):\n",
    "    # Generating time column for plotting\n",
    "    data['Time'] = data['Hour'].astype(str).str.zfill(2) + ':' + data['Minute'].astype(str).str.zfill(2)\n",
    "    data['PlotTime'] = pd.to_datetime('2000-01-01 ' + data['Time'])\n",
    "    \n",
    "    # Calculate total consumption across all consumption meters and electric car chargers\n",
    "    data['TotalConsumption'] = data[consumption_columns + electric_car_columns].sum(axis=1)\n",
    "\n",
    "    # Calculate the difference contributed by the solar panels\n",
    "    data['SolarContribution'] = data[solar_columns].sum(axis=1)\n",
    "\n",
    "    # Calculate net consumption (total consumption minus solar panel production)\n",
    "    data['NetConsumption'] = data['TotalConsumption'] - data['SolarContribution']\n",
    "    \n",
    "    # Define the color palette\n",
    "    palette = sns.color_palette(\"tab20\", len(data['Month'].unique()))\n",
    "\n",
    "    fig, (ax_total, ax_solar, ax_net) = plt.subplots(3, 1, figsize=(14, 18))\n",
    "\n",
    "    # Helper function to plot data\n",
    "    def plot_data(ax, y_value, title):\n",
    "        for month, color in zip(data['Month'].unique(), palette):\n",
    "            monthly_data = data[data['Month'] == month]\n",
    "            ax.plot(monthly_data['PlotTime'], monthly_data[y_value], label=calendar.month_name[month], color=color)\n",
    "        ax.set_title(title)\n",
    "        ax.set_xlabel(\"Hour of Day\")\n",
    "        ax.xaxis.set_major_locator(mdates.HourLocator(interval=1))\n",
    "        ax.xaxis.set_major_formatter(mdates.DateFormatter('%H'))\n",
    "        ax.legend(loc='upper left', bbox_to_anchor=(1, 1))\n",
    "\n",
    "    # Plotting\n",
    "    plot_data(ax_total, 'TotalConsumption', \"Total Consumption per Hour throughout the Year\")\n",
    "    ax_total.set_ylabel(\"Average Consumption (kWh)\")\n",
    "\n",
    "    plot_data(ax_solar, 'SolarContribution', \"Solar Panel Contribution per Hour throughout the Year\")\n",
    "    ax_solar.set_ylabel(\"Average Solar Contribution (kWh)\")\n",
    "\n",
    "    plot_data(ax_net, 'NetConsumption', \"Net Consumption (after solar contribution) per Hour throughout the Year\")\n",
    "    ax_net.set_ylabel(\"Average Net Consumption (kWh)\")\n",
    "\n",
    "    plt.tight_layout()\n",
    "    plt.show()"
   ]
  },
  {
   "cell_type": "markdown",
   "metadata": {},
   "source": [
    "#### 1.5 Execute the function to plot the average consumption per hour throughout the year"
   ]
  },
  {
   "cell_type": "code",
   "execution_count": null,
   "metadata": {},
   "outputs": [],
   "source": [
    "# Execute the plotting function\n",
    "plot_monthly_consumption(avg_monthly_consumption, consumption_meter_columns, solar_panel_columns, electric_car_charger_columns)"
   ]
  },
  {
   "cell_type": "markdown",
   "metadata": {},
   "source": [
    "#### Downloading the Dataset of Task 1"
   ]
  },
  {
   "cell_type": "code",
   "execution_count": null,
   "metadata": {},
   "outputs": [],
   "source": [
    "filename = \"task1_annual_consumption\"\n",
    "# du.export_dataframe_to_excel(processed_data, filename, EXPORT_FILE_PATH)"
   ]
  },
  {
   "cell_type": "markdown",
   "metadata": {},
   "source": [
    "OLD CODE:"
   ]
  },
  {
   "cell_type": "code",
   "execution_count": null,
   "metadata": {},
   "outputs": [],
   "source": [
    "# # Step 1: Calculate annual consumption for each type of meter\n",
    "# annual_consumption = processed_data[consumption_meter_columns].sum()\n",
    "\n",
    "# # Step 2: Calculate annual costs\n",
    "# annual_costs = annual_consumption * PRICE_PER_KWH\n",
    "\n",
    "# # Step 3: Average daily consumption for each 15-minute interval is already done in preprocessing\n",
    "# # We have 'Hour' and 'Minute' columns created in the preprocessing step.\n",
    "# avg_daily_consumption = processed_data.groupby(['Hour', 'Minute']).mean().reset_index()\n",
    "\n",
    "# # Step 4: Average daily consumption for each 15-minute interval grouped by month\n",
    "# # 'Month' column was also created during preprocessing.\n",
    "# avg_monthly_consumption = processed_data.groupby(['Month', 'Hour', 'Minute']).mean().reset_index()\n",
    "\n",
    "# # Generating time column for plotting\n",
    "# avg_monthly_consumption['Time'] = avg_monthly_consumption['Hour'].astype(str).str.zfill(2) + ':' + avg_monthly_consumption['Minute'].astype(str).str.zfill(2)\n",
    "# avg_monthly_consumption['PlotTime'] = pd.to_datetime('2000-01-01 ' + avg_monthly_consumption['Time'])\n",
    "\n",
    "# # Calculate total consumption across all consumption meters and electric car chargers\n",
    "# avg_monthly_consumption['TotalConsumption'] = avg_monthly_consumption[consumption_meter_columns + electric_car_charger_columns].sum(axis=1)\n",
    "\n",
    "# # Calculate the difference contributed by the solar panels\n",
    "# avg_monthly_consumption['SolarContribution'] = avg_monthly_consumption[solar_panel_columns].sum(axis=1)\n",
    "\n",
    "# # Calculate net consumption (total consumption minus solar panel production)\n",
    "# avg_monthly_consumption['NetConsumption'] = avg_monthly_consumption['TotalConsumption'] - avg_monthly_consumption['SolarContribution']\n",
    "\n",
    "# # Break down the plotting into a separate function for clarity\n",
    "# def plot_monthly_consumption(data, consumption_columns, solar_columns, electric_car_columns):\n",
    "#     # Generating time column for plotting\n",
    "#     data['Time'] = data['Hour'].astype(str).str.zfill(2) + ':' + data['Minute'].astype(str).str.zfill(2)\n",
    "#     data['PlotTime'] = pd.to_datetime('2000-01-01 ' + data['Time'])\n",
    "    \n",
    "#     # Calculate total consumption across all consumption meters and electric car chargers\n",
    "#     data['TotalConsumption'] = data[consumption_columns + electric_car_columns].sum(axis=1)\n",
    "\n",
    "#     # Calculate the difference contributed by the solar panels\n",
    "#     data['SolarContribution'] = data[solar_columns].sum(axis=1)\n",
    "\n",
    "#     # Calculate net consumption (total consumption minus solar panel production)\n",
    "#     data['NetConsumption'] = data['TotalConsumption'] - data['SolarContribution']\n",
    "    \n",
    "#     # Define the color palette\n",
    "#     palette = sns.color_palette(\"tab20\", len(data['Month'].unique()))\n",
    "\n",
    "#     fig, (ax_total, ax_solar, ax_net) = plt.subplots(3, 1, figsize=(14, 18))\n",
    "\n",
    "#     # Helper function to plot data\n",
    "#     def plot_data(ax, y_value, title):\n",
    "#         for month, color in zip(data['Month'].unique(), palette):\n",
    "#             monthly_data = data[data['Month'] == month]\n",
    "#             ax.plot(monthly_data['PlotTime'], monthly_data[y_value], label=calendar.month_name[month], color=color)\n",
    "#         ax.set_title(title)\n",
    "#         ax.set_xlabel(\"Hour of Day\")\n",
    "#         ax.xaxis.set_major_locator(mdates.HourLocator(interval=1))\n",
    "#         ax.xaxis.set_major_formatter(mdates.DateFormatter('%H'))\n",
    "#         ax.legend(loc='upper left', bbox_to_anchor=(1, 1))\n",
    "\n",
    "#     # Plotting\n",
    "#     plot_data(ax_total, 'TotalConsumption', \"Total Consumption per Hour throughout the Year\")\n",
    "#     ax_total.set_ylabel(\"Average Consumption (kWh)\")\n",
    "\n",
    "#     plot_data(ax_solar, 'SolarContribution', \"Solar Panel Contribution per Hour throughout the Year\")\n",
    "#     ax_solar.set_ylabel(\"Average Solar Contribution (kWh)\")\n",
    "\n",
    "#     plot_data(ax_net, 'NetConsumption', \"Net Consumption (after solar contribution) per Hour throughout the Year\")\n",
    "#     ax_net.set_ylabel(\"Average Net Consumption (kWh)\")\n",
    "\n",
    "#     plt.tight_layout()\n",
    "#     plt.show()\n",
    "\n",
    "# # Execute the plotting function\n",
    "# plot_monthly_consumption(avg_monthly_consumption, consumption_meter_columns, solar_panel_columns, electric_car_charger_columns)"
   ]
  },
  {
   "cell_type": "markdown",
   "metadata": {},
   "source": [
    "### Task 2: Daily Consumption Patterns and Monthly Breakdowns\n",
    "\n",
    "This task aims to identify patterns in consumption across different days of the week:\n",
    "\n",
    "1. Average consumption values for each day of the week are computed.\n",
    "2. A bar chart is created to showcase the average consumption for each day, from Monday to Sunday."
   ]
  },
  {
   "cell_type": "markdown",
   "metadata": {},
   "source": [
    "#### 2.1 Calculations for 15-min, hourly and daily average consumption"
   ]
  },
  {
   "cell_type": "code",
   "execution_count": null,
   "metadata": {},
   "outputs": [],
   "source": [
    "# 1. Visual: Calculate average 15-minute consumption for the days of the week for each month\n",
    "avg_15min_weekly_monthly_consumption = processed_data.groupby(['Month', 'DayOfWeek']).mean()[all_consumption_columns].reset_index()\n",
    "avg_15min_weekly_monthly_consumption['DayOfWeekName'] = avg_15min_weekly_monthly_consumption['DayOfWeek'].apply(lambda x: calendar.day_name[x])\n",
    "\n",
    "# 2. Visual: Calculate average hourly consumption for the days of the week for each month\n",
    "hourly_data_without_datetime = processed_data.drop(columns=['TimePeriodStart', 'TimePeriodEnd'], errors='ignore')\n",
    "hourly_sum = hourly_data_without_datetime.groupby(['Month', 'DayOfWeek', 'Hour']).sum()[all_consumption_columns].reset_index()\n",
    "avg_hourly_weekly_monthly_consumption = hourly_sum.groupby(['Month', 'DayOfWeek']).mean().reset_index()\n",
    "avg_hourly_weekly_monthly_consumption['DayOfWeekName'] = avg_hourly_weekly_monthly_consumption['DayOfWeek'].apply(lambda x: calendar.day_name[x])\n",
    "\n",
    "# 3. Visual: Calculate average daily consumption for the days of the week for each month\n",
    "data_without_datetime = processed_data.drop(columns=['TimePeriodStart', 'TimePeriodEnd'], errors='ignore')\n",
    "daily_sum = data_without_datetime.groupby(['Month', 'DayOfWeek']).sum()[all_consumption_columns].reset_index()\n",
    "avg_daily_weekly_monthly_consumption = daily_sum.groupby(['Month', 'DayOfWeek']).mean().reset_index()\n",
    "avg_daily_weekly_monthly_consumption['DayOfWeekName'] = avg_daily_weekly_monthly_consumption['DayOfWeek'].apply(lambda x: calendar.day_name[x])\n"
   ]
  },
  {
   "cell_type": "markdown",
   "metadata": {},
   "source": [
    "#### 2.1.1   Visual for 15-min interval average consumption"
   ]
  },
  {
   "cell_type": "code",
   "execution_count": null,
   "metadata": {},
   "outputs": [],
   "source": [
    "def plot_monthly_consumption_adjusted(data, consumption_columns):\n",
    "    fig, axes = plt.subplots(nrows=3, ncols=4, figsize=(20, 15), sharex=True, sharey=True)\n",
    "    days_order = list(calendar.day_name)\n",
    "\n",
    "    for month in range(1, 13):\n",
    "        ax = axes[(month-1) // 4][(month-1) % 4]\n",
    "        \n",
    "        # Aggregate by day of the week within each month\n",
    "        monthly_data = data[data['Month'] == month].groupby(['DayOfWeek', 'DayOfWeekName']).mean().reset_index().sort_values(by=\"DayOfWeek\")\n",
    "        \n",
    "        # Plot stacked bar chart\n",
    "        monthly_data.set_index('DayOfWeekName')[consumption_columns].plot(kind='bar', stacked=True, ax=ax, alpha=0.7)\n",
    "        \n",
    "        # Set bar labels\n",
    "        for patch in ax.patches:\n",
    "            width, height = patch.get_width(), patch.get_height()\n",
    "            x, y = patch.get_xy()\n",
    "            ax.annotate(f'{height:.2f}', (x + width / 2., y + height / 2.),\n",
    "                        ha='center', va='center', fontsize=9, color='black', xytext=(0, -10),\n",
    "                        textcoords='offset points')\n",
    "\n",
    "        ax.set_title(calendar.month_name[month])\n",
    "        ax.set_xticks(list(range(7)))  # Set x-ticks for every day\n",
    "        ax.set_xticklabels(days_order, rotation=45, ha='right')  \n",
    "        ax.grid(axis='y')\n",
    "        ax.set_ylabel('Avg 15-min interval Consumption (kWh)')\n",
    "\n",
    "    # Adjust the legend to avoid overlapping\n",
    "    fig.legend(consumption_columns, loc='upper center', bbox_to_anchor=(0.5, 1.05), ncol=len(consumption_columns))\n",
    "\n",
    "    plt.tight_layout()\n",
    "    plt.show()"
   ]
  },
  {
   "cell_type": "markdown",
   "metadata": {},
   "source": [
    "#### 2.1.2   Visual for hourly and daily average consumption"
   ]
  },
  {
   "cell_type": "code",
   "execution_count": null,
   "metadata": {},
   "outputs": [],
   "source": [
    "def plot_stacked_consumption(data, consumption_columns, title_prefix, chart_type=\"hourly\"):\n",
    "    fig, axes = plt.subplots(nrows=3, ncols=4, figsize=(20, 15), sharex=True, sharey=True)\n",
    "    days_order = list(calendar.day_name)\n",
    "    \n",
    "    if chart_type == \"daily\":\n",
    "        ax = axes[0][0]\n",
    "        # Create the stacked bar chart\n",
    "        data.set_index('DayOfWeekName')[consumption_columns].plot(kind='bar', stacked=True, ax=ax, alpha=0.7)\n",
    "        \n",
    "        # Set bar labels\n",
    "        for patch in ax.patches:\n",
    "            width, height = patch.get_width(), patch.get_height()\n",
    "            x, y = patch.get_xy()\n",
    "            ax.annotate(f'{height:.2f}', (x + width / 2., y + height / 2.),\n",
    "                        ha='center', va='center', fontsize=9, color='black', xytext=(0, -10),\n",
    "                        textcoords='offset points')\n",
    "\n",
    "        ax.set_title(f\"Average {title_prefix} Consumption\")\n",
    "        ax.set_xticks(list(range(7)))  # Set x-ticks for every day\n",
    "        ax.set_xticklabels(days_order, rotation=45, ha='right')  \n",
    "        ax.grid(axis='y')\n",
    "        ax.set_ylabel(f'Avg {title_prefix} Consumption (kWh)')\n",
    "        # Hide other subplots\n",
    "        for i in range(3):\n",
    "            for j in range(4):\n",
    "                if i != 0 or j != 0:\n",
    "                    axes[i][j].axis('off')\n",
    "        plt.tight_layout()\n",
    "        plt.show()\n",
    "        return\n",
    "\n",
    "    for month in range(1, 13):\n",
    "        ax = axes[(month-1) // 4][(month-1) % 4]\n",
    "        monthly_data = data[data['Month'] == month].sort_values(by=\"DayOfWeek\")\n",
    "        \n",
    "        # If there's no data for the month, continue\n",
    "        if monthly_data.empty:\n",
    "            continue\n",
    "        \n",
    "        # Create the stacked bar chart\n",
    "        monthly_data.set_index('DayOfWeekName')[consumption_columns].plot(kind='bar', stacked=True, ax=ax, alpha=0.7)\n",
    "        \n",
    "        # Set bar labels\n",
    "        for patch in ax.patches:\n",
    "            width, height = patch.get_width(), patch.get_height()\n",
    "            x, y = patch.get_xy()\n",
    "            ax.annotate(f'{height:.2f}', (x + width / 2., y + height / 2.),\n",
    "                        ha='center', va='center', fontsize=9, color='black', xytext=(0, -10),\n",
    "                        textcoords='offset points')\n",
    "\n",
    "        ax.set_title(calendar.month_name[month])\n",
    "        ax.set_xticks(list(range(7)))  # Set x-ticks for every day\n",
    "        ax.set_xticklabels(days_order, rotation=45, ha='right')  \n",
    "        ax.grid(axis='y')\n",
    "        ax.set_ylabel(f'Avg {title_prefix} Consumption (kWh)')\n",
    "\n",
    "    # Adjust the legend to avoid overlapping\n",
    "    fig.legend(consumption_columns, loc='upper center', bbox_to_anchor=(0.5, 1.05), ncol=len(consumption_columns))\n",
    "\n",
    "    plt.tight_layout()\n",
    "    plt.show()"
   ]
  },
  {
   "cell_type": "markdown",
   "metadata": {},
   "source": [
    "#### 2.1.3   Execute functions for plotting the average consumption for each day of the week"
   ]
  },
  {
   "cell_type": "code",
   "execution_count": null,
   "metadata": {},
   "outputs": [],
   "source": [
    "# Plotting the data\n",
    "# plot_monthly_consumption_adjusted(avg_15min_weekly_monthly_consumption, all_consumption_columns)\n",
    "plot_monthly_consumption_adjusted(avg_15min_weekly_monthly_consumption, all_consumption_columns)\n",
    "plot_stacked_consumption(avg_hourly_weekly_monthly_consumption, all_consumption_columns, \"Hourly\", chart_type=\"monthly\")\n",
    "plot_stacked_consumption(avg_daily_weekly_monthly_consumption, all_consumption_columns, \"Daily\", chart_type=\"monthly\")"
   ]
  },
  {
   "cell_type": "markdown",
   "metadata": {},
   "source": [
    "#### Downloading the Dataset of Task 2"
   ]
  },
  {
   "cell_type": "code",
   "execution_count": null,
   "metadata": {},
   "outputs": [],
   "source": [
    "# Exporting the 15-minute interval averages\n",
    "filename_15min = \"task2_15min_weekly_monthly_consumption\"\n",
    "# du.export_dataframe_to_excel(avg_15min_weekly_monthly_consumption, filename_15min, EXPORT_FILE_PATH)\n",
    "\n",
    "# Exporting the hourly averages\n",
    "filename_hourly = \"task2_hourly_weekly_monthly_consumption\"\n",
    "# du.export_dataframe_to_excel(avg_hourly_weekly_monthly_consumption, filename_hourly, EXPORT_FILE_PATH)\n",
    "\n",
    "# Exporting the daily averages\n",
    "filename_daily = \"task2_daily_weekly_monthly_consumption\"\n",
    "# du.export_dataframe_to_excel(avg_daily_weekly_monthly_consumption, filename_daily, EXPORT_FILE_PATH)"
   ]
  },
  {
   "cell_type": "markdown",
   "metadata": {},
   "source": [
    "#### 2.2 Analyzing Daily Average Consumption\n",
    "\n",
    "This section dives deeper into daily consumption patterns. Specifically, it aims to provide insights into how consumption varies across different days of the week by examining the daily average consumption for each column of interest.\n",
    "\n",
    "***Steps:***\n",
    "1. ***Hourly Summation:***\n",
    "   - For each day of the week and each hour of the day, the data is grouped and summed. This step provides the total consumption for each hour.\n",
    "\n",
    "2. ***Calculate Daily Averages from Hourly Data:***\n",
    "   - After obtaining the hourly sums, the next step is to sum these values to get a daily total.\n",
    "This daily total is then divided by 24 (the number of hours in a day) to compute the daily average consumption for each column of interest.\n",
    "\n",
    "3. ***Visualization:***\n",
    "   - A bar chart is plotted to showcase the daily average consumption for each day of the week.\n",
    "Each column of interest is represented as a separate bar, making it easier to compare the consumption values for different columns on any given day.\n",
    "The x-axis represents the days of the week, and the y-axis shows the average consumption in kWh.\n",
    "A legend is provided to distinguish between different columns.\n",
    "By examining the chart, one can glean insights into how consumption habits might change depending on the day of the week."
   ]
  },
  {
   "cell_type": "markdown",
   "metadata": {},
   "source": [
    "#### 2.2.1 Calculate the daily average consumption for each meter"
   ]
  },
  {
   "cell_type": "code",
   "execution_count": null,
   "metadata": {},
   "outputs": [],
   "source": [
    "# Group by the day of the week and hour, then calculate the sum for specific columns\n",
    "hourly_sum = processed_data.groupby(['DayOfWeek', 'Hour'])[all_columns_of_interest].sum().reset_index()\n",
    "\n",
    "# Calculate daily averages from hourly summed data\n",
    "daily_sum = hourly_sum.groupby('DayOfWeek')[all_columns_of_interest].sum().reset_index()\n",
    "daily_avg_from_sum = daily_sum.copy()\n",
    "\n",
    "# Divide the summed values by 24 to get the daily average\n",
    "for col in all_columns_of_interest:\n",
    "    daily_avg_from_sum[col] = daily_sum[col] / 24"
   ]
  },
  {
   "cell_type": "markdown",
   "metadata": {},
   "source": [
    "#### 2.2.2 Visualize the daily average consumption for each meter"
   ]
  },
  {
   "cell_type": "code",
   "execution_count": null,
   "metadata": {},
   "outputs": [],
   "source": [
    "plt.figure(figsize=(18, 10))\n",
    "\n",
    "# Calculate the number of bars and their width\n",
    "num_bars = len(all_columns_of_interest)\n",
    "bar_width = 0.15\n",
    "positions = np.arange(len(days))\n",
    "\n",
    "for i, col in enumerate(all_columns_of_interest):\n",
    "    plt.bar(positions + i*bar_width, daily_avg_from_sum[col], width=bar_width, label=col)\n",
    "\n",
    "# Setting the x-axis\n",
    "plt.xticks(positions + bar_width * (num_bars - 1) / 2, days)\n",
    "plt.xlabel('Day of the Week')\n",
    "plt.ylabel('Average Value (kWh)')\n",
    "plt.title(\"Daily Average Consumption Values for Each Column\")\n",
    "plt.legend(title='Columns', bbox_to_anchor=(1.05, 1), loc='upper left')\n",
    "plt.grid(axis='y', which=\"both\", ls=\"--\", c='0.7')\n",
    "plt.tight_layout()\n",
    "plt.show()"
   ]
  },
  {
   "cell_type": "markdown",
   "metadata": {},
   "source": [
    "#### 2.3: Hourly Consumption Patterns\n",
    "In this section, the goal is to analyze the hourly consumption patterns for each day of the week. The data is broken down into hourly segments to identify any trends or patterns in consumption during different times of the day.\n",
    "\n",
    "***Steps:***\n",
    "\n",
    "1. ***Filter Relevant Columns:***\n",
    "    - From the entire dataset, only those columns that are of interest and present in the processed data are selected.\n",
    "\n",
    "\n",
    "2. ***Hourly Average Computation:***\n",
    "    - The data is grouped by both the day of the week and the hour. For each grouping, the average consumption for the columns of interest is calculated.\n",
    "\n",
    "3. ***Day Labeling:***\n",
    "    - The numeric representation of the days (0-6) is converted into string labels (Monday to Sunday) using the 'days' list, making the data more interpretable.\n",
    "4. ***Visualization:***\n",
    "    - A function named plot_column_data is defined to plot the hourly average consumption for each column.\n",
    "    - The function utilizes Seaborn's barplot to visually represent the hourly consumption trends for each day of the week.\n",
    "    - The x-axis represents the hours of the day, while the y-axis shows the average consumption in kWh.\n",
    "    - A separate chart is plotted for each column, making it easier to analyze individual consumption trends.\n",
    "\n",
    "\n",
    "By reviewing these charts, one can discern patterns in consumption for each hour of the day, and understand if there are any particular hours where consumption peaks or drops."
   ]
  },
  {
   "cell_type": "code",
   "execution_count": null,
   "metadata": {},
   "outputs": [],
   "source": [
    "# Group by the day of the week and hour, then calculate the mean for the columns of interest\n",
    "numeric_cols = [col for col in all_columns_of_interest if col in processed_data.columns]\n",
    "hourly_avg = processed_data.groupby(['DayOfWeek', 'Hour'])[numeric_cols].mean().reset_index()\n",
    "\n",
    "# Convert DayOfWeek to string labels for clarity in plotting using the 'days' list\n",
    "hourly_avg['DayOfWeek'] = hourly_avg['DayOfWeek'].apply(lambda x: days[x])"
   ]
  },
  {
   "cell_type": "code",
   "execution_count": null,
   "metadata": {},
   "outputs": [],
   "source": [
    "# Helper function to plot data for each column\n",
    "def plot_column_data(column_name):\n",
    "    plt.figure(figsize=(14, 6))\n",
    "    \n",
    "    # Use Seaborn's barplot\n",
    "    sns.barplot(data=hourly_avg, x=hourly_avg['Hour'].astype(str), y=column_name, hue='DayOfWeek', errorbar=None, palette='viridis')\n",
    "    \n",
    "    plt.title(f\"Hourly Average Consumption for {column_name}\")\n",
    "    plt.legend(title='Day of the Week', labels=days, bbox_to_anchor=(1.05, 1), loc='upper left')\n",
    "    plt.grid(True, which=\"both\", ls=\"--\", c='0.7')\n",
    "    plt.xticks(list(range(0, 24)), list(range(0, 24)))  # Set the x-ticks explicitly\n",
    "    plt.ylabel(f'Average {column_name}')\n",
    "    plt.xlabel('Hour of Day')\n",
    "    plt.tight_layout()\n",
    "    plt.show()"
   ]
  },
  {
   "cell_type": "code",
   "execution_count": null,
   "metadata": {},
   "outputs": [],
   "source": [
    "# Plotting data for each column of interest\n",
    "for column in numeric_cols:\n",
    "    plot_column_data(column)"
   ]
  },
  {
   "cell_type": "markdown",
   "metadata": {},
   "source": [
    "OLD CODE:"
   ]
  },
  {
   "cell_type": "code",
   "execution_count": null,
   "metadata": {},
   "outputs": [],
   "source": [
    "# # Calculate average consumption for the days of the week for each month\n",
    "# avg_weekly_monthly_consumption = processed_data.groupby(['Month', 'DayOfWeek']).mean()[all_consumption_columns].reset_index()\n",
    "\n",
    "# # Convert numerical day representation to actual day names\n",
    "# avg_weekly_monthly_consumption['DayOfWeekName'] = avg_weekly_monthly_consumption['DayOfWeek'].apply(lambda x: calendar.day_name[x])\n",
    "\n",
    "# def plot_monthly_consumption_adjusted(data, consumption_columns):\n",
    "#     fig, axes = plt.subplots(nrows=3, ncols=4, figsize=(20, 15), sharex=True, sharey=True)\n",
    "#     days_order = list(calendar.day_name)\n",
    "\n",
    "#     for month in range(1, 13):\n",
    "#         ax = axes[(month-1) // 4][(month-1) % 4]\n",
    "#         monthly_data = data[data['Month'] == month].sort_values(by=\"DayOfWeek\")\n",
    "        \n",
    "#         bars = []\n",
    "#         for column in consumption_columns:\n",
    "#             bars.append(ax.bar(pd.Categorical(monthly_data['DayOfWeekName'], categories=days_order), monthly_data[column], label=column, alpha=0.7))\n",
    "        \n",
    "#         # Set bar labels\n",
    "#         for bar_set in bars:\n",
    "#             for bar in bar_set:\n",
    "#                 yval = bar.get_height()\n",
    "#                 ax.text(bar.get_x() + bar.get_width()/2, yval + 0.1, round(yval,2), ha='center', va='bottom', fontsize=9)\n",
    "        \n",
    "#         ax.set_title(calendar.month_name[month])\n",
    "#         ax.set_xticks(list(range(7)))  # Set x-ticks for every day\n",
    "#         ax.set_xticklabels(days_order, rotation=45, ha='right')  \n",
    "#         ax.grid(axis='y')\n",
    "#         ax.set_ylabel('Avg Consumption (kWh)')\n",
    "\n",
    "#     # Adjust the legend to avoid overlapping\n",
    "#     fig.legend(consumption_columns, loc='upper center', bbox_to_anchor=(0.5, 1.05), ncol=len(consumption_columns))\n",
    "\n",
    "#     plt.tight_layout()\n",
    "#     plt.show()\n",
    "# plot_monthly_consumption_adjusted(avg_weekly_monthly_consumption, all_consumption_columns)"
   ]
  },
  {
   "cell_type": "code",
   "execution_count": null,
   "metadata": {},
   "outputs": [],
   "source": [
    "# # 1. Visual: Calculate average 15-minute consumption for the days of the week for each month\n",
    "# avg_15min_weekly_monthly_consumption = processed_data.groupby(['Month', 'DayOfWeek']).mean()[all_consumption_columns].reset_index()\n",
    "# avg_15min_weekly_monthly_consumption['DayOfWeekName'] = avg_15min_weekly_monthly_consumption['DayOfWeek'].apply(lambda x: calendar.day_name[x])\n",
    "\n",
    "# # 2. Visual: Calculate average hourly consumption for the days of the week for each month\n",
    "# avg_hourly_weekly_consumption = processed_data.groupby(['Month', 'DayOfWeek', 'Hour']).mean()[all_consumption_columns].reset_index()\n",
    "# avg_hourly_weekly_monthly_consumption = avg_hourly_weekly_consumption.groupby(['Month', 'DayOfWeek']).mean().reset_index()\n",
    "# avg_hourly_weekly_monthly_consumption['DayOfWeekName'] = avg_hourly_weekly_monthly_consumption['DayOfWeek'].apply(lambda x: calendar.day_name[x])\n",
    "\n",
    "# # 3. Visual: Calculate average daily consumption for the days of the week for each month\n",
    "# # Removing datetime columns\n",
    "# data_without_datetime = processed_data.drop(columns=['TimePeriodStart', 'TimePeriodEnd'], errors='ignore')\n",
    "\n",
    "# # Summarizing values by day\n",
    "# daily_sum = data_without_datetime.groupby(['Month', 'DayOfWeek']).sum()[all_consumption_columns].reset_index()\n",
    "\n",
    "# # Calculating the average of the same days in the same month\n",
    "# avg_daily_weekly_monthly_consumption = daily_sum.groupby(['Month', 'DayOfWeek']).mean().reset_index()\n",
    "# avg_daily_weekly_monthly_consumption['DayOfWeekName'] = avg_daily_weekly_monthly_consumption['DayOfWeek'].apply(lambda x: calendar.day_name[x])\n",
    "\n",
    "\n",
    "# def plot_stacked_consumption(data, consumption_columns, title_prefix, chart_type=\"hourly\"):\n",
    "#     fig, axes = plt.subplots(nrows=3, ncols=4, figsize=(20, 15), sharex=True, sharey=True)\n",
    "#     days_order = list(calendar.day_name)\n",
    "    \n",
    "#     if chart_type == \"daily\":\n",
    "#         ax = axes[0][0]\n",
    "#         # Create the stacked bar chart\n",
    "#         data.set_index('DayOfWeekName')[consumption_columns].plot(kind='bar', stacked=True, ax=ax, alpha=0.7)\n",
    "        \n",
    "#         # Set bar labels\n",
    "#         for patch in ax.patches:\n",
    "#             width, height = patch.get_width(), patch.get_height()\n",
    "#             x, y = patch.get_xy()\n",
    "#             ax.annotate(f'{height:.2f}', (x + width / 2., y + height / 2.),\n",
    "#                         ha='center', va='center', fontsize=9, color='black', xytext=(0, -10),\n",
    "#                         textcoords='offset points')\n",
    "\n",
    "#         ax.set_title(f\"Average {title_prefix} Consumption\")\n",
    "#         ax.set_xticks(list(range(7)))  # Set x-ticks for every day\n",
    "#         ax.set_xticklabels(days_order, rotation=45, ha='right')  \n",
    "#         ax.grid(axis='y')\n",
    "#         ax.set_ylabel(f'Avg {title_prefix} Consumption (kWh)')\n",
    "#         # Hide other subplots\n",
    "#         for i in range(3):\n",
    "#             for j in range(4):\n",
    "#                 if i != 0 or j != 0:\n",
    "#                     axes[i][j].axis('off')\n",
    "#         plt.tight_layout()\n",
    "#         plt.show()\n",
    "#         return\n",
    "\n",
    "#     for month in range(1, 13):\n",
    "#         ax = axes[(month-1) // 4][(month-1) % 4]\n",
    "#         monthly_data = data[data['Month'] == month].sort_values(by=\"DayOfWeek\")\n",
    "        \n",
    "#         # If there's no data for the month, continue\n",
    "#         if monthly_data.empty:\n",
    "#             continue\n",
    "        \n",
    "#         # Create the stacked bar chart\n",
    "#         monthly_data.set_index('DayOfWeekName')[consumption_columns].plot(kind='bar', stacked=True, ax=ax, alpha=0.7)\n",
    "        \n",
    "#         # Set bar labels\n",
    "#         for patch in ax.patches:\n",
    "#             width, height = patch.get_width(), patch.get_height()\n",
    "#             x, y = patch.get_xy()\n",
    "#             ax.annotate(f'{height:.2f}', (x + width / 2., y + height / 2.),\n",
    "#                         ha='center', va='center', fontsize=9, color='black', xytext=(0, -10),\n",
    "#                         textcoords='offset points')\n",
    "\n",
    "#         ax.set_title(calendar.month_name[month])\n",
    "#         ax.set_xticks(list(range(7)))  # Set x-ticks for every day\n",
    "#         ax.set_xticklabels(days_order, rotation=45, ha='right')  \n",
    "#         ax.grid(axis='y')\n",
    "#         ax.set_ylabel(f'Avg {title_prefix} Consumption (kWh)')\n",
    "\n",
    "#     # Adjust the legend to avoid overlapping\n",
    "#     fig.legend(consumption_columns, loc='upper center', bbox_to_anchor=(0.5, 1.05), ncol=len(consumption_columns))\n",
    "\n",
    "#     plt.tight_layout()\n",
    "#     plt.show()\n",
    "\n",
    "# # Plotting the data\n",
    "# plot_stacked_consumption(avg_weekly_monthly_consumption, all_consumption_columns, \"15-min Interval\", chart_type=\"monthly\")\n",
    "# plot_stacked_consumption(avg_hourly_weekly_monthly_consumption, all_consumption_columns, \"Hourly\", chart_type=\"monthly\")\n"
   ]
  },
  {
   "cell_type": "code",
   "execution_count": null,
   "metadata": {},
   "outputs": [],
   "source": [
    "# # Removing datetime columns\n",
    "# data_without_datetime = processed_data.drop(columns=['TimePeriodStart', 'TimePeriodEnd'], errors='ignore')\n",
    "\n",
    "# # Summarizing values by day\n",
    "# daily_sum = data_without_datetime.groupby(['Month', 'DayOfWeek']).sum()[all_consumption_columns].reset_index()\n",
    "\n",
    "# # Calculating the average of the same days in the same month\n",
    "# avg_daily_weekly_monthly_consumption = daily_sum.groupby(['Month', 'DayOfWeek']).mean().reset_index()\n",
    "# avg_daily_weekly_monthly_consumption['DayOfWeekName'] = avg_daily_weekly_monthly_consumption['DayOfWeek'].apply(lambda x: calendar.day_name[x])\n",
    "\n",
    "# def plot_monthly_daily_consumption(data, consumption_columns):\n",
    "#     fig, axes = plt.subplots(nrows=3, ncols=4, figsize=(20, 15), sharex=True, sharey=True)\n",
    "#     days_order = list(calendar.day_name)\n",
    "    \n",
    "#     for month in range(1, 13):\n",
    "#         ax = axes[(month-1) // 4][(month-1) % 4]\n",
    "#         monthly_data = data[data['Month'] == month].sort_values(by=\"DayOfWeek\")\n",
    "        \n",
    "#         # If there's no data for the month, continue\n",
    "#         if monthly_data.empty:\n",
    "#             continue\n",
    "        \n",
    "#         # Create the stacked bar chart\n",
    "#         monthly_data.set_index('DayOfWeekName')[consumption_columns].plot(kind='bar', stacked=True, ax=ax, alpha=0.7)\n",
    "        \n",
    "#         # Set bar labels\n",
    "#         for patch in ax.patches:\n",
    "#             width, height = patch.get_width(), patch.get_height()\n",
    "#             x, y = patch.get_xy()\n",
    "#             ax.annotate(f'{height:.2f}', (x + width / 2., y + height / 2.),\n",
    "#                         ha='center', va='center', fontsize=9, color='black', xytext=(0, -10),\n",
    "#                         textcoords='offset points')\n",
    "\n",
    "#         ax.set_title(calendar.month_name[month])\n",
    "#         ax.set_xticks(list(range(7)))  # Set x-ticks for every day\n",
    "#         ax.set_xticklabels(days_order, rotation=45, ha='right')  \n",
    "#         ax.grid(axis='y')\n",
    "#         ax.set_ylabel(f'Avg Consumption (kWh)')\n",
    "\n",
    "#     # Adjust the legend to avoid overlapping\n",
    "#     fig.legend(consumption_columns, loc='upper center', bbox_to_anchor=(0.5, 1.05), ncol=len(consumption_columns))\n",
    "\n",
    "#     plt.tight_layout()\n",
    "#     plt.show()\n",
    "\n",
    "# # Call the function\n",
    "# plot_monthly_daily_consumption(avg_daily_weekly_monthly_consumption, all_consumption_columns)\n"
   ]
  },
  {
   "cell_type": "code",
   "execution_count": null,
   "metadata": {},
   "outputs": [],
   "source": [
    "# # Group by the day of the week and hour, then calculate the sum for specific columns\n",
    "# hourly_sum = processed_data.groupby(['DayOfWeek', 'Hour'])[all_columns_of_interest].sum().reset_index()\n",
    "\n",
    "# # Calculate daily averages from hourly summed data\n",
    "# daily_sum = hourly_sum.groupby('DayOfWeek')[all_columns_of_interest].sum().reset_index()\n",
    "# daily_avg_from_sum = daily_sum.copy()\n",
    "\n",
    "# # Divide the summed values by 24 to get the daily average\n",
    "# for col in all_columns_of_interest:\n",
    "#     daily_avg_from_sum[col] = daily_sum[col] / 24\n",
    "\n",
    "# # Plotting\n",
    "# plt.figure(figsize=(18, 10))\n",
    "\n",
    "# # Calculate the number of bars and their width\n",
    "# num_bars = len(all_columns_of_interest)\n",
    "# bar_width = 0.15\n",
    "# positions = np.arange(len(days))\n",
    "\n",
    "# for i, col in enumerate(all_columns_of_interest):\n",
    "#     plt.bar(positions + i*bar_width, daily_avg_from_sum[col], width=bar_width, label=col)\n",
    "\n",
    "# # Setting the x-axis\n",
    "# plt.xticks(positions + bar_width * (num_bars - 1) / 2, days)\n",
    "# plt.xlabel('Day of the Week')\n",
    "# plt.ylabel('Average Value (kWh)')\n",
    "# plt.title(\"Daily Average Consumption Values for Each Column\")\n",
    "# plt.legend(title='Columns', bbox_to_anchor=(1.05, 1), loc='upper left')\n",
    "# plt.grid(axis='y', which=\"both\", ls=\"--\", c='0.7')\n",
    "# plt.tight_layout()\n",
    "# plt.show()"
   ]
  },
  {
   "cell_type": "code",
   "execution_count": null,
   "metadata": {},
   "outputs": [],
   "source": [
    "print(processed_data.columns)\n",
    "print(processed_data.dtypes)"
   ]
  },
  {
   "cell_type": "code",
   "execution_count": null,
   "metadata": {},
   "outputs": [],
   "source": [
    "# # Group by the day of the week and hour, then calculate the mean for the columns of interest\n",
    "# numeric_cols = [col for col in all_columns_of_interest if col in processed_data.columns]\n",
    "# hourly_avg = processed_data.groupby(['DayOfWeek', 'Hour'])[numeric_cols].mean().reset_index()\n",
    "\n",
    "# # Convert DayOfWeek to string labels for clarity in plotting\n",
    "# day_mapping = {0: 'Mon', 1: 'Tue', 2: 'Wed', 3: 'Thu', 4: 'Fri', 5: 'Sat', 6: 'Sun'}\n",
    "# hourly_avg['DayOfWeek'] = hourly_avg['DayOfWeek'].replace(day_mapping)\n",
    "\n",
    "# # Ensure 'Hour' column is of integer type\n",
    "# hourly_avg['Hour'] = hourly_avg['Hour'].astype(int)\n",
    "\n",
    "# # Helper function to plot data for each column\n",
    "# def plot_column_data(column_name):\n",
    "#     plt.figure(figsize=(14, 6))\n",
    "    \n",
    "#     # Use Seaborn's barplot\n",
    "#     sns.barplot(data=hourly_avg, x='Hour', y=column_name, hue='DayOfWeek', errorbar=None, palette='viridis')\n",
    "    \n",
    "#     plt.title(f\"Hourly Average Consumption for {column_name}\")\n",
    "#     plt.legend(title='Day of the Week', labels=list(day_mapping.values()), bbox_to_anchor=(1.05, 1), loc='upper left')\n",
    "#     plt.grid(True, which=\"both\", ls=\"--\", c='0.7')\n",
    "#     plt.xticks(list(range(0, 24)))\n",
    "#     plt.ylabel(f'Average {column_name}')\n",
    "#     plt.xlabel('Hour of Day')\n",
    "#     plt.tight_layout()\n",
    "#     plt.show()\n",
    "\n",
    "# # Plotting data for each column of interest\n",
    "# for column in numeric_cols:\n",
    "#     plot_column_data(column)\n"
   ]
  },
  {
   "cell_type": "markdown",
   "metadata": {},
   "source": [
    "### Task 3: Examining Intra-day Consumption Distribution\n",
    "The goal of this task is to observe consumption patterns within a day. By studying consumption trends at 15-minute intervals, we can identify periods of peak consumption and more.\n",
    "\n",
    "***Steps:***\n",
    "\n",
    "1. ***Calculate average consumption for each 15-minute interval of the day***\n",
    "    - We aim to compute the average consumption for each quarter-hour of the day. To achieve this, we'll leverage the 'Hour' and 'Minute' columns we extracted during preprocessing.\n",
    "\n",
    "\n",
    "2. ***Visualization of intra-day consumption patterns***\n",
    "   - In this step, we will visualize the computed average consumption values for each 15-minute interval throughout the day. This will provide insights into consumption trends within a day, helping identify peak and off-peak times."
   ]
  },
  {
   "cell_type": "code",
   "execution_count": null,
   "metadata": {},
   "outputs": [],
   "source": [
    "# Step 1: Calculate average consumption for each 15-minute interval of the day\n",
    "\n",
    "# As we have already extracted 'Hour' and 'Minute' in the preprocessing step, we can directly compute the average.\n",
    "avg_intra_day = processed_data.groupby(['Hour', 'Minute']).mean()[all_consumption_columns].reset_index()\n",
    "\n",
    "# Convert 'Hour' and 'Minute' to a time format for better visualization\n",
    "avg_intra_day['Time'] = avg_intra_day['Hour'].astype(str).str.zfill(2) + ':' + avg_intra_day['Minute'].astype(str).str.zfill(2)\n",
    "\n",
    "# Step 2: Visualization of intra-day consumption patterns\n",
    "\n",
    "plt.figure(figsize=(16, 8))\n",
    "\n",
    "# Plot data for each consumption column\n",
    "for column in all_consumption_columns:\n",
    "    plt.plot(avg_intra_day['Time'], avg_intra_day[column], label=column, marker='o', markersize=3)\n",
    "\n",
    "# Set labels, title, and format the x-axis\n",
    "plt.xlabel('Time of Day')\n",
    "plt.ylabel('Average Consumption (kWh)')\n",
    "plt.title('Intra-day Distribution of Average Consumption (2022)')\n",
    "plt.xticks(rotation=45, ha='right')\n",
    "plt.legend()\n",
    "plt.grid(axis='y')\n",
    "\n",
    "plt.tight_layout()\n",
    "plt.show()"
   ]
  },
  {
   "cell_type": "markdown",
   "metadata": {},
   "source": [
    "### Task 4: Identifying Days with Peak Consumption at 15-minute Intervals\n",
    "The objective of this task is to spot days with peak power usage. We'll be focusing on 15-minute intervals to determine which specific periods have the highest consumption. This information is crucial for optimizing power consumption and planning for peak demand periods.\n",
    "\n",
    "***Steps:***\n",
    "\n",
    "1. ***Convert power readings to energy consumption***\n",
    "    - Given the data is in kW (power) for 15-minute intervals, we'll multiply by 4 to convert these readings to kWh (energy).\n",
    "Calculate the total consumption for each 15-minute interval\n",
    "\n",
    "2. ***Summing up the consumption values across all columns for each 15-minute interval helps identify peak times.***\n",
    "   - Identify and highlight peak consumption periods\n",
    "   - Using the computed total consumption for each interval, we'll determine which time frame had the highest consumption.\n",
    "   - Visualization of intra-day consumption patterns with peak highlighted\n",
    "   - A line plot will provide a comprehensive view of the consumption trends throughout the day. The peak consumption period will be highlighted to offer an immediate view of the time with the highest demand."
   ]
  },
  {
   "cell_type": "markdown",
   "metadata": {},
   "source": [
    "#### 4.1 Calculations for the peak consumption periods"
   ]
  },
  {
   "cell_type": "code",
   "execution_count": null,
   "metadata": {},
   "outputs": [],
   "source": [
    "# Step 1: Convert to kWh\n",
    "# Multiplying by 4 to convert kW readings of 15-minute intervals to kWh\n",
    "avg_intra_day[all_consumption_columns] *= 4\n",
    "\n",
    "# Step 2: Calculate total consumption for each time interval\n",
    "avg_intra_day['Total'] = avg_intra_day[all_consumption_columns].sum(axis=1)\n",
    "\n",
    "# Step 3: Identify peak consumption time\n",
    "peak_time = avg_intra_day.iloc[avg_intra_day['Total'].idxmax()]['Time']\n",
    "peak_value = avg_intra_day['Total'].max()"
   ]
  },
  {
   "cell_type": "markdown",
   "metadata": {},
   "source": [
    "#### 4.2 Visual for the peak consumption periods"
   ]
  },
  {
   "cell_type": "code",
   "execution_count": null,
   "metadata": {},
   "outputs": [],
   "source": [
    "# Visualization\n",
    "plt.figure(figsize=(16, 8))\n",
    "\n",
    "# Plot data for each consumption column\n",
    "for column in all_consumption_columns:\n",
    "    plt.plot(avg_intra_day['Time'].astype(str), avg_intra_day[column], label=column, marker='o', markersize=3)\n",
    "\n",
    "# Highlight the peak consumption period\n",
    "plt.axvline(peak_time, color='red', linestyle='--', label=f'Peak Consumption at {peak_time}')\n",
    "plt.axhline(peak_value, color='green', linestyle='--', label=f'Peak Consumption: {peak_value:.2f} kWh')\n",
    "\n",
    "# Set labels, title, and format the x-axis\n",
    "plt.xlabel('Time of Day')\n",
    "plt.ylabel('Average Consumption (kWh)')\n",
    "plt.title('Intra-day Distribution of Average Consumption with Peak Highlighted (2022)')\n",
    "plt.xticks(avg_intra_day['Time'].astype(str).unique(), rotation=45, ha='right')\n",
    "plt.legend()\n",
    "plt.grid(axis='y')\n",
    "\n",
    "plt.tight_layout()\n",
    "plt.show()"
   ]
  },
  {
   "cell_type": "markdown",
   "metadata": {},
   "source": [
    "### Task 5: Identify the top 5 days with the highest instantaneous power.\n",
    "\n",
    "The focus of this task is to pinpoint periods of peak consumption:\n",
    "\n",
    "1. **Highlighting Peak Intervals**:\n",
    "    - The dataset is first scoured to identify the 15-minute intervals with the top 5 highest total power consumptions. It's worth noting that multiple peak values might occur on the same day. The visual representation of this data will underscore these peak values, allowing us to identify the most power-intensive moments throughout the year.\n",
    "2. **Analysis of Unique Peak Days**:\n",
    "    - To get a broader view, we delve deeper to identify the top 5 unique days that experienced the highest instantaneous power. This approach ensures we're not just looking at isolated peak intervals but rather entire days of significant power usage.\n",
    "    - A line plot is then crafted to vividly display the intra-day power distribution for each of these standout days, painting a clear picture of consumption dynamics on these particularly demanding days.\n",
    "\n",
    "By the culmination of this task, we'll have a nuanced understanding of both instantaneous power spikes and broader days of high consumption, offering a multifaceted view of peak usage periods."
   ]
  },
  {
   "cell_type": "markdown",
   "metadata": {},
   "source": [
    "#### 5.1 The top 5 days with the highest instantaneous power"
   ]
  },
  {
   "cell_type": "markdown",
   "metadata": {},
   "source": [
    "##### 5.1.1 Calculations for the top 5 days with the highest instantaneous power"
   ]
  },
  {
   "cell_type": "code",
   "execution_count": null,
   "metadata": {},
   "outputs": [],
   "source": [
    "# Step 1: Convert consumption to power (kW)\n",
    "# Since the data is for 15-minute intervals, we multiply by 4 to get kW\n",
    "processed_data[all_consumption_columns] *= 4\n",
    "\n",
    "# Calculate total power for each interval\n",
    "processed_data['TotalPower'] = processed_data[all_consumption_columns].sum(axis=1)\n",
    "\n",
    "# Step 2: Identify top 5 intervals with the highest power\n",
    "top_5_intervals = processed_data.nlargest(5, 'TotalPower')\n",
    "\n",
    "# Step 3: Extract unique dates from top intervals\n",
    "unique_top_dates = top_5_intervals['TimePeriodStart'].dt.date.unique()\n",
    "\n",
    "print(\"Top 5 Dates with the Highest Instantaneous Power:\")\n",
    "for date in unique_top_dates:\n",
    "    print(date)"
   ]
  },
  {
   "cell_type": "markdown",
   "metadata": {},
   "source": [
    "##### 5.1.2 Visual for the top 5 days with the highest instantaneous power"
   ]
  },
  {
   "cell_type": "code",
   "execution_count": null,
   "metadata": {},
   "outputs": [],
   "source": [
    "# Step 4: Visualization\n",
    "\n",
    "plt.figure(figsize=(16, 10))\n",
    "\n",
    "# Plotting intra-day distribution for each unique top date\n",
    "for date in unique_top_dates:\n",
    "    subset = processed_data[processed_data['TimePeriodStart'].dt.date == date]\n",
    "    time = subset['TimePeriodStart'].dt.strftime('%H:%M')\n",
    "    plt.plot(time, subset['TotalPower'], label=str(date), marker='o', markersize=4)\n",
    "\n",
    "# Adjusting the plot\n",
    "plt.xlabel('Time of Day')\n",
    "plt.ylabel('Power (kW)')\n",
    "plt.title('Intra-day Power Distribution for Days with Highest Instantaneous Power')\n",
    "plt.xticks(rotation=45)\n",
    "plt.legend()\n",
    "plt.grid(axis='y')\n",
    "plt.tight_layout()\n",
    "\n",
    "plt.show()"
   ]
  },
  {
   "cell_type": "markdown",
   "metadata": {},
   "source": [
    "#### 5.2 The top 5 UNIQUE days with the highest instantaneous power"
   ]
  },
  {
   "cell_type": "markdown",
   "metadata": {},
   "source": [
    "##### 5.2.1 Calculations for the top 5 UNIQUE days with the highest instantaneous power"
   ]
  },
  {
   "cell_type": "code",
   "execution_count": null,
   "metadata": {},
   "outputs": [],
   "source": [
    "# Calculate daily total power\n",
    "daily_total_power = processed_data.groupby(processed_data['TimePeriodStart'].dt.date)['TotalPower'].sum()\n",
    "\n",
    "# Get top 5 unique dates with the highest total power\n",
    "top_5_dates = daily_total_power.nlargest(5).index\n",
    "\n",
    "print(\"Top 5 Dates with the Highest Instantaneous Power:\")\n",
    "for date in top_5_dates:\n",
    "    print(date)"
   ]
  },
  {
   "cell_type": "markdown",
   "metadata": {},
   "source": [
    "##### 5.2.2 Visual for the top 5 UNIQUE days with the highest instantaneous power"
   ]
  },
  {
   "cell_type": "code",
   "execution_count": null,
   "metadata": {},
   "outputs": [],
   "source": [
    "# Visualization\n",
    "plt.figure(figsize=(16, 10))\n",
    "\n",
    "# Plotting intra-day distribution for each unique top date\n",
    "for date in top_5_dates:\n",
    "    subset = processed_data[processed_data['TimePeriodStart'].dt.date == date]\n",
    "    time = subset['TimePeriodStart'].dt.strftime('%H:%M')\n",
    "    plt.plot(time, subset['TotalPower'], label=str(date), marker='o', markersize=4)\n",
    "\n",
    "# Adjusting the plot\n",
    "plt.xlabel('Time of Day')\n",
    "plt.ylabel('Power (kW)')\n",
    "plt.title('Intra-day Power Distribution for Days with Highest Instantaneous Power')\n",
    "plt.xticks(rotation=45)\n",
    "plt.legend()\n",
    "plt.grid(axis='y')\n",
    "plt.tight_layout()\n",
    "\n",
    "plt.show()"
   ]
  },
  {
   "cell_type": "markdown",
   "metadata": {},
   "source": [
    "#### 5.3 Detailed Intra-day Power Distribution for Peak Consumption Days\n",
    "This task focuses on understanding the power distribution for the top 5 days with the highest consumption. By studying these days closely, we can identify any unique patterns or anomalies that might occur during peak times."
   ]
  },
  {
   "cell_type": "code",
   "execution_count": null,
   "metadata": {},
   "outputs": [],
   "source": [
    "# Visualization\n",
    "fig, axes = plt.subplots(nrows=5, ncols=1, figsize=(16, 30))\n",
    "all_consumption_columns = consumption_meter_columns + electric_car_charger_columns\n",
    "\n",
    "for idx, date in enumerate(top_5_dates):\n",
    "    ax = axes[idx]\n",
    "    \n",
    "    # Subset for the date\n",
    "    subset = processed_data[processed_data['TimePeriodStart'].dt.date == date]\n",
    "    \n",
    "    # Extract data for each consumption column and stack them\n",
    "    bar_data = [subset[col].values for col in all_consumption_columns]\n",
    "    cum_data = np.cumsum(bar_data, axis=0)\n",
    "    \n",
    "    for i, col in enumerate(all_consumption_columns):\n",
    "        if i == 0:\n",
    "            ax.bar(subset['TimePeriodStart'].dt.strftime('%H:%M'), bar_data[i], label=col)\n",
    "        else:\n",
    "            ax.bar(subset['TimePeriodStart'].dt.strftime('%H:%M'), bar_data[i], bottom=cum_data[i - 1], label=col)\n",
    "    \n",
    "    # Adjusting the subplot\n",
    "    ax.set_title(f'Intra-day Power Distribution for {date}')\n",
    "    ax.set_xlabel('Time of Day')\n",
    "    ax.set_ylabel('Power (kW)')\n",
    "    time_labels = subset['TimePeriodStart'].dt.strftime('%H:%M')\n",
    "    ax.set_xticks(np.arange(len(time_labels)))\n",
    "    ax.set_xticklabels(time_labels, rotation=45)\n",
    "    ax.legend()\n",
    "    ax.grid(axis='y')\n",
    "\n",
    "plt.tight_layout()\n",
    "plt.show()"
   ]
  },
  {
   "cell_type": "markdown",
   "metadata": {},
   "source": [
    "#### 5.4 Detailed Examination of Power Distribution on Specific Dates\n",
    "The objective of this task is to conduct a granular analysis of the power distribution at 15-minute intervals on specified dates. By focusing on particular days, we can gain deeper insights into consumption patterns and deviations from typical behaviors."
   ]
  },
  {
   "cell_type": "markdown",
   "metadata": {},
   "source": [
    "##### 5.4.1 Dates of interests"
   ]
  },
  {
   "cell_type": "code",
   "execution_count": null,
   "metadata": {},
   "outputs": [],
   "source": [
    "# Dates of interest\n",
    "dates_of_interest = ['2022-01-24', '2022-07-04']"
   ]
  },
  {
   "cell_type": "markdown",
   "metadata": {},
   "source": [
    "##### 5.4.2 Visual for the power distribution on specific dates"
   ]
  },
  {
   "cell_type": "code",
   "execution_count": null,
   "metadata": {},
   "outputs": [],
   "source": [
    "# Visualization\n",
    "fig, axes = plt.subplots(nrows=len(dates_of_interest), ncols=1, figsize=(16, 15))  # Adjusted the figure size\n",
    "\n",
    "for idx, date in enumerate(dates_of_interest):\n",
    "    ax = axes[idx]\n",
    "    \n",
    "    # Subset for the date\n",
    "    subset = processed_data[processed_data['TimePeriodStart'].dt.date == pd.to_datetime(date).date()]\n",
    "    \n",
    "    # Extract data for each consumption column and stack them\n",
    "    bar_data = [subset[col].values for col in all_consumption_columns]\n",
    "    cum_data = np.cumsum(bar_data, axis=0)\n",
    "    \n",
    "    for i, col in enumerate(all_consumption_columns):\n",
    "        if i == 0:\n",
    "            ax.bar(subset['TimePeriodStart'].dt.strftime('%H:%M'), bar_data[i], label=col)\n",
    "        else:\n",
    "            ax.bar(subset['TimePeriodStart'].dt.strftime('%H:%M'), bar_data[i], bottom=cum_data[i - 1], label=col)\n",
    "    \n",
    "    # Adjusting the subplot\n",
    "    ax.set_title(f'Intra-day Power Distribution for {date}')\n",
    "    ax.set_xlabel('Time of Day')\n",
    "    ax.set_ylabel('Power (kW)')\n",
    "    time_labels = subset['TimePeriodStart'].dt.strftime('%H:%M')\n",
    "    ax.set_xticks(np.arange(len(time_labels)))\n",
    "    ax.set_xticklabels(time_labels, rotation=45)\n",
    "    ax.legend()\n",
    "    ax.grid(axis='y')\n",
    "\n",
    "plt.tight_layout()\n",
    "plt.show()"
   ]
  },
  {
   "cell_type": "markdown",
   "metadata": {},
   "source": [
    "### Task 6: Visualizing Quarterly Consumption\n",
    "\n",
    "This task aims to understand the distribution of daily energy consumption for each meter:\n",
    "\n",
    "1. Histograms are created for each meter to show the distribution of daily energy consumption values.\n",
    "2. These histograms provide insights into the frequency of different daily consumption values for each meter, highlighting common consumption patterns and any anomalies."
   ]
  },
  {
   "cell_type": "markdown",
   "metadata": {},
   "source": [
    "#### 6.1 Calculations for the quarterly consumption"
   ]
  },
  {
   "cell_type": "code",
   "execution_count": null,
   "metadata": {},
   "outputs": [],
   "source": [
    "# Compute the daily energy consumption for each meter\n",
    "processed_data['Date'] = processed_data['TimePeriodStart'].dt.date\n",
    "daily_consumption = processed_data.groupby('Date')[all_consumption_columns].sum()"
   ]
  },
  {
   "cell_type": "markdown",
   "metadata": {},
   "source": [
    "#### 6.2 Visual for the quarterly consumption"
   ]
  },
  {
   "cell_type": "code",
   "execution_count": null,
   "metadata": {},
   "outputs": [],
   "source": [
    "# Setting up the plotting environment\n",
    "sns.set_style(\"whitegrid\")\n",
    "fig, axes = plt.subplots(nrows=3, ncols=1, figsize=(12, 15))\n",
    "\n",
    "# Plotting histograms for each meter\n",
    "for idx, column in enumerate(all_consumption_columns):\n",
    "    sns.histplot(daily_consumption[column], ax=axes[idx], bins=30, kde=True, color='skyblue', edgecolor='black')\n",
    "    \n",
    "    # Setting titles and labels for each subplot\n",
    "    axes[idx].set_title(f'Distribution of Daily Energy Consumption for {column}')\n",
    "    axes[idx].set_xlabel('Daily Energy Consumption (kWh)')\n",
    "    axes[idx].set_ylabel('Frequency')\n",
    "\n",
    "# Adjusting the layout to prevent overlap\n",
    "plt.tight_layout()\n",
    "\n",
    "# Displaying the plots\n",
    "plt.show()"
   ]
  },
  {
   "cell_type": "markdown",
   "metadata": {},
   "source": [
    "### Task 7: Anomaly Detection in Daily Energy Consumption\n",
    "\n",
    "Detecting anomalies in energy consumption is vital for various reasons, such as identifying unusual energy usage patterns, equipment malfunctions, or potential fraud. In this task, we'll employ the Interquartile Range (IQR) method to pinpoint anomalies in our daily energy consumption dataset.\n",
    "\n",
    "***Steps:***\n",
    "\n",
    "1. **Threshold Calculation**:\n",
    "    - For each meter (or consumption column), the first quartile (Q1) and the third quartile (Q3) of daily consumption are computed.\n",
    "    - The interquartile range (IQR) is then determined as \\( IQR = Q3 - Q1 \\).\n",
    "    - To identify potential outliers, thresholds are set as 1.5 times the IQR below Q1 and above Q3.\n",
    "    - Data points outside of these bounds are considered anomalies.\n",
    "\n",
    "2. **Identify Anomalous Dates**:\n",
    "    - The previously calculated thresholds are used to determine the specific dates where the consumption was anomalously low or high.\n",
    "    - For each meter, the dates outside the threshold bounds are extracted and stored.\n",
    "\n",
    "3. **Visualization of Anomalies**:\n",
    "    - Daily energy consumption is plotted over time.\n",
    "    - Detected anomalies are highlighted in red to differentiate them from the regular consumption patterns.\n",
    "    - This visual representation helps in intuitively understanding the days with unusual consumption patterns.\n"
   ]
  },
  {
   "cell_type": "markdown",
   "metadata": {},
   "source": [
    "##### 7.1 Calculating Thresholds for Anomaly Detection**\n",
    "\n",
    "To detect anomalies, we first need to define what constitutes an \"anomaly.\" In this cell, we:\n",
    "- Calculate the first (Q1) and third quartiles (Q3) for the consumption data of each meter.\n",
    "- Determine the Interquartile Range (IQR) as \\( IQR = Q3 - Q1 \\).\n",
    "- Set thresholds at 1.5 times the IQR below Q1 and above Q3. Any value outside these bounds can be considered an anomaly.\n",
    "- Display the calculated thresholds for each meter."
   ]
  },
  {
   "cell_type": "code",
   "execution_count": null,
   "metadata": {},
   "outputs": [],
   "source": [
    "# For each meter, calculate Q1, Q3, IQR, and the bounds for outliers\n",
    "thresholds = {}\n",
    "\n",
    "for column in all_consumption_columns:\n",
    "    Q1 = daily_consumption[column].quantile(0.25)\n",
    "    Q3 = daily_consumption[column].quantile(0.75)\n",
    "    IQR = Q3 - Q1\n",
    "    lower_bound = Q1 - THRESHOLD_FOR_OUTLIERS * IQR\n",
    "    upper_bound = Q3 + THRESHOLD_FOR_OUTLIERS * IQR\n",
    "    \n",
    "    thresholds[column] = {\"Lower Bound\": lower_bound, \"Upper Bound\": upper_bound}\n",
    "\n",
    "# Display thresholds for each meter\n",
    "for meter, bounds in thresholds.items():\n",
    "    print(f\"Thresholds for {meter}:\")\n",
    "    print(f\"  - Lower Bound: {bounds['Lower Bound']:.2f}\")\n",
    "    print(f\"  - Upper Bound: {bounds['Upper Bound']:.2f}\")\n",
    "    print(\"\\n\")\n"
   ]
  },
  {
   "cell_type": "markdown",
   "metadata": {},
   "source": [
    "##### 7.2 Identifying Dates with Anomalies\n",
    "\n",
    "Using the thresholds determined in the previous cell, this cell focuses on:\n",
    "- Identifying the specific dates where the consumption was anomalously low or high for each meter.\n",
    "- Displaying the anomaly dates, providing a direct look into days that might require further investigation."
   ]
  },
  {
   "cell_type": "code",
   "execution_count": null,
   "metadata": {},
   "outputs": [],
   "source": [
    "# For each meter, calculate Q1, Q3, IQR, and the bounds for outliers\n",
    "anomaly_dates = {}\n",
    "\n",
    "for column in all_consumption_columns:\n",
    "    Q1 = daily_consumption[column].quantile(0.25)\n",
    "    Q3 = daily_consumption[column].quantile(0.75)\n",
    "    IQR = Q3 - Q1\n",
    "    lower_bound = Q1 - THRESHOLD_FOR_OUTLIERS * IQR\n",
    "    upper_bound = Q3 + THRESHOLD_FOR_OUTLIERS * IQR\n",
    "    \n",
    "    # Extract dates of the anomalies\n",
    "    anomaly_dates[column] = daily_consumption[(daily_consumption[column] < lower_bound) | (daily_consumption[column] > upper_bound)].index\n",
    "\n",
    "# Display dates of anomalies for each meter\n",
    "for meter, dates in anomaly_dates.items():\n",
    "    print(f\"Anomaly Dates for {meter}:\")\n",
    "    for date in dates:\n",
    "        print(f\"  - {date.strftime('%Y-%m-%d')}\")\n",
    "    print(\"\\n\")\n"
   ]
  },
  {
   "cell_type": "markdown",
   "metadata": {},
   "source": [
    "##### 7.3 Visualizing Anomalies in Daily Energy Consumption**\n",
    "\n",
    "Visualization aids in intuitively understanding the data. In this cell:\n",
    "- We filter out the anomalies from the daily consumption data using previously set thresholds.\n",
    "- Plot the daily energy consumption over time for each meter.\n",
    "- Highlight the detected anomalies in red, differentiating them from the regular consumption patterns."
   ]
  },
  {
   "cell_type": "code",
   "execution_count": null,
   "metadata": {},
   "outputs": [],
   "source": [
    "# For each meter, calculate Q1, Q3, IQR, and the bounds for outliers\n",
    "anomalies = {}\n",
    "\n",
    "for column in all_consumption_columns:\n",
    "    Q1 = daily_consumption[column].quantile(0.25)\n",
    "    Q3 = daily_consumption[column].quantile(0.75)\n",
    "    IQR = Q3 - Q1\n",
    "    lower_bound = Q1 - THRESHOLD_FOR_OUTLIERS * IQR\n",
    "    upper_bound = Q3 + THRESHOLD_FOR_OUTLIERS * IQR\n",
    "    \n",
    "    # Filter out the anomalies\n",
    "    anomalies[column] = daily_consumption[(daily_consumption[column] < lower_bound) | (daily_consumption[column] > upper_bound)]\n",
    "\n",
    "# Plotting the daily consumption along with anomalies\n",
    "fig, axes = plt.subplots(nrows=3, ncols=1, figsize=(12, 15))\n",
    "\n",
    "for idx, column in enumerate(all_consumption_columns):\n",
    "    axes[idx].plot(daily_consumption.index, daily_consumption[column], label='Daily Consumption', color='blue')\n",
    "    axes[idx].scatter(anomalies[column].index, anomalies[column][column], color='red', label='Anomalies')\n",
    "    axes[idx].set_title(f'Daily Energy Consumption with Anomalies for {column}')\n",
    "    axes[idx].set_xlabel('Date')\n",
    "    axes[idx].set_ylabel('Daily Energy Consumption (kWh)')\n",
    "    axes[idx].legend()\n",
    "\n",
    "plt.tight_layout()\n",
    "plt.show()"
   ]
  },
  {
   "cell_type": "markdown",
   "metadata": {},
   "source": [
    "### Task 8: Solar Panel Production vs Consumption\n",
    "One of the sustainable solutions to energy needs is harnessing solar power. In this section, we'll compare solar panel production against consumption. This will provide insights into how self-produced energy matches up against consumption and where additional energy sources might be needed.\n",
    "Understanding the Problem:\n",
    "\n",
    "Often, solar panels produce more energy than is consumed by a facility or household. This excess energy, if not stored or fed back into the grid, is essentially wasted. By identifying the days and the amount of excess energy produced, facilities can make informed decisions, such as investing in energy storage solutions or adjusting their energy consumption patterns.\n",
    "Approach:\n",
    "\n",
    "To visualize and calculate the excess energy produced by the solar panels, we take the following steps:\n",
    "\n",
    "1. **Filtering Excess Intervals:**\n",
    "For each 15-minute interval in the dataset, we identify periods where the energy generated by the solar panel exceeds the energy consumed.\n",
    "    ```python\n",
    "    excess_intervals = data[data[solar_panel_col] > data[meter_col]]\n",
    "    ```\n",
    "\n",
    "2. **Calculating Excess Energy:**\n",
    "    For each of these intervals, we calculate the difference between the energy generated by the solar panel and the energy consumed. This difference represents the \"excess energy\" for that interval.\n",
    "    ```python\n",
    "    excess_intervals['Excess'] = excess_intervals[solar_panel_col] - excess_intervals[meter_col]\n",
    "    ```\n",
    "\n",
    "3. **Aggregating Excess Energy by Day:**\n",
    "    We then aggregate this \"excess energy\" for each day to get a daily summary of excess energy production.\n",
    "    ```python\n",
    "    daily_excess = excess_intervals.groupby(excess_intervals['TimePeriodStart'].dt.date)['Excess'].sum()\n",
    "    ```\n",
    "\n",
    "4. **Visualization:**\n",
    "    A bar chart provides a visual representation of the excess energy produced each day. This helps in quickly identifying days with higher excess energy production.\n",
    "    ```python\n",
    "    daily_excess.plot(kind='bar', color='skyblue')\n",
    "    ```"
   ]
  },
  {
   "cell_type": "markdown",
   "metadata": {},
   "source": [
    "#### 8.1 Comparing Sum of All Production vs. Sum of All Consumption\n",
    "Step 1: Summation and Energy Balance Calculation\n",
    "In this step, we'll sum up all the production columns (solar panels) and all the consumption columns (consumption meters + electric car chargers). We'll then determine the energy balance for each interval."
   ]
  },
  {
   "cell_type": "code",
   "execution_count": null,
   "metadata": {},
   "outputs": [],
   "source": [
    "# Summing up all consumption and production columns for the entire facility\n",
    "processed_data['TotalFacilityConsumption'] = processed_data[all_consumption_columns].sum(axis=1)\n",
    "processed_data['TotalFacilityProduction'] = processed_data[solar_panel_columns].sum(axis=1)\n",
    "\n",
    "# Calculating Energy Balance for the entire facility: Positive if production > consumption, Negative otherwise\n",
    "processed_data['FacilityEnergyBalance'] = processed_data['TotalFacilityProduction'] - processed_data['TotalFacilityConsumption']\n",
    "\n",
    "# Aggregate this \"net energy\" for each day for the entire facility\n",
    "daily_facility_data = processed_data.groupby(processed_data['TimePeriodStart'].dt.date).agg({'TotalFacilityConsumption': 'sum', 'TotalFacilityProduction': 'sum', 'FacilityEnergyBalance': 'sum'}).reset_index()\n",
    "\n",
    "# Convert 'TimePeriodStart' back to datetime if it's not\n",
    "daily_facility_data['TimePeriodStart'] = pd.to_datetime(daily_facility_data['TimePeriodStart'])\n",
    "\n",
    "# Monthly aggregation for the entire facility\n",
    "monthly_facility_data = daily_facility_data.groupby(daily_facility_data['TimePeriodStart'].dt.to_period(\"M\")).agg({'TotalFacilityConsumption': 'sum', 'TotalFacilityProduction': 'sum', 'FacilityEnergyBalance': 'sum'}).reset_index()\n",
    "\n",
    "# Creating a new DataFrame for the energy balances of the entire facility\n",
    "facility_energy_balance_df = processed_data[['TimePeriodStart', 'TotalFacilityConsumption', 'TotalFacilityProduction', 'FacilityEnergyBalance']].copy()"
   ]
  },
  {
   "cell_type": "markdown",
   "metadata": {},
   "source": [
    "##### 8.1.1 Print out monthly values for the sum of all production and the sum of all consumption"
   ]
  },
  {
   "cell_type": "code",
   "execution_count": null,
   "metadata": {},
   "outputs": [],
   "source": [
    "# # Print out the monthly summaries for the entire facility\n",
    "# for index, row in monthly_facility_data.iterrows():\n",
    "#     month = row['TimePeriodStart'].strftime('%B %Y')\n",
    "#     print(f\"Month: {month}\")\n",
    "#     print(f\"Monthly Consumption for Facility: {row['TotalFacilityConsumption']:.2f} kWh\")\n",
    "#     print(f\"Monthly Production for Facility: {row['TotalFacilityProduction']:.2f} kWh\")\n",
    "#     print(f\"Net Balance (Production - Consumption) for Facility: {row['FacilityEnergyBalance']:.2f} kWh\")\n",
    "#     print('---')"
   ]
  },
  {
   "cell_type": "markdown",
   "metadata": {},
   "source": [
    "##### 8.1.2 Visual for the sum of all production and the sum of all consumption"
   ]
  },
  {
   "cell_type": "code",
   "execution_count": null,
   "metadata": {},
   "outputs": [],
   "source": [
    "def plot_total_consumption_vs_production(data, all_consumption_columns, solar_panel_columns):\n",
    "    # Use the pre-calculated total consumption and total production columns\n",
    "    # Aggregate this \"net energy\" for each day\n",
    "    daily_facility_data = data.groupby(data['TimePeriodStart'].dt.date).agg({'TotalFacilityConsumption': 'sum', 'TotalFacilityProduction': 'sum', 'FacilityEnergyBalance': 'sum'}).reset_index()\n",
    "    \n",
    "    # Plot settings\n",
    "    plt.figure(figsize=(16, 8))\n",
    "    \n",
    "    # Set Seaborn style\n",
    "    sns.set_style(\"whitegrid\")\n",
    "    \n",
    "    # Plot area chart\n",
    "    # Consumption\n",
    "    plt.fill_between(daily_facility_data['TimePeriodStart'], daily_facility_data['TotalFacilityConsumption'], color=\"#1f77b4\", label='Total Consumption', alpha=0.6)\n",
    "    # Production\n",
    "    plt.fill_between(daily_facility_data['TimePeriodStart'], 0, daily_facility_data['TotalFacilityProduction'], color=\"#ff7f0e\", label='Total Production', alpha=0.6)\n",
    "    # Net (Excess/Deficit)\n",
    "    plt.fill_between(daily_facility_data['TimePeriodStart'], 0, daily_facility_data['FacilityEnergyBalance'], color=\"#2ca02c\", label='Net (Excess/Deficit)', alpha=0.6, where=(daily_facility_data['FacilityEnergyBalance'] > 0))\n",
    "    plt.fill_between(daily_facility_data['TimePeriodStart'], 0, daily_facility_data['FacilityEnergyBalance'], color=\"#d62728\", label='Net (Deficit)', alpha=0.6, where=(daily_facility_data['FacilityEnergyBalance'] <= 0))\n",
    "\n",
    "    plt.title('Daily Total Consumption vs. Total Production for Facility')\n",
    "    plt.ylabel('Energy (kWh)')\n",
    "    plt.xlabel('Date')\n",
    "    plt.legend(loc='upper left')\n",
    "    plt.xticks(rotation=45)\n",
    "    plt.tight_layout()\n",
    "    plt.show()\n",
    "\n",
    "# Call the function\n",
    "plot_total_consumption_vs_production(processed_data, all_consumption_columns, solar_panel_columns)\n"
   ]
  },
  {
   "cell_type": "markdown",
   "metadata": {},
   "source": [
    "##### 8.1.3 Inspection of the total energy balance"
   ]
  },
  {
   "cell_type": "code",
   "execution_count": null,
   "metadata": {},
   "outputs": [],
   "source": [
    "# 15-minute interval data\n",
    "# du.inspect_dataframe(facility_energy_balance_df)"
   ]
  },
  {
   "cell_type": "code",
   "execution_count": null,
   "metadata": {},
   "outputs": [],
   "source": [
    "# Daily data\n",
    "# du.inspect_dataframe(daily_facility_data)"
   ]
  },
  {
   "cell_type": "code",
   "execution_count": null,
   "metadata": {},
   "outputs": [],
   "source": [
    "# Monthly data\n",
    "# du.inspect_dataframe(monthly_facility_data)"
   ]
  },
  {
   "cell_type": "markdown",
   "metadata": {},
   "source": [
    "##### 8.1.4 Export dataframe into excel file"
   ]
  },
  {
   "cell_type": "code",
   "execution_count": null,
   "metadata": {},
   "outputs": [],
   "source": [
    "filename = \"facility_total_energy_balance\"\n",
    "# du.export_dataframe_to_excel(facility_energy_balance_df, filename, EXPORT_FILE_PATH)"
   ]
  },
  {
   "cell_type": "code",
   "execution_count": null,
   "metadata": {},
   "outputs": [],
   "source": [
    "filename = \"facility_total_daily_energy_balance\"\n",
    "# du.export_dataframe_to_excel(facility_energy_balance_df, filename, EXPORT_FILE_PATH)"
   ]
  },
  {
   "cell_type": "code",
   "execution_count": null,
   "metadata": {},
   "outputs": [],
   "source": [
    "filename = \"facility_total_monthly_energy_balance\"\n",
    "# du.export_dataframe_to_excel(facility_energy_balance_df, filename, EXPORT_FILE_PATH)"
   ]
  },
  {
   "cell_type": "markdown",
   "metadata": {},
   "source": [
    "#### 8.2 Comparing the consumption and production by pods\n",
    "Facilities may consist of multiple \"pods\", which are sub-units or sections. Each pod can have its own consumption meter and solar panel. Understanding the energy dynamics at the pod level can help in identifying the consumption patterns of different sections of a facility and how well the solar production of each pod matches its consumption."
   ]
  },
  {
   "cell_type": "markdown",
   "metadata": {},
   "source": [
    "##### 8.2.1 Main function for the consumption and production by pods"
   ]
  },
  {
   "cell_type": "code",
   "execution_count": null,
   "metadata": {},
   "outputs": [],
   "source": [
    "def plot_and_calculate_net_area_chart(data, meter_col, solar_panel_col):\n",
    "    # Calculate the net energy for each interval (positive or negative)\n",
    "    data['Net'] = data[solar_panel_col] - data[meter_col]\n",
    "\n",
    "    # Aggregate this \"net energy\" for each day\n",
    "    daily_data = data.groupby(data['TimePeriodStart'].dt.date).agg({meter_col: 'sum', solar_panel_col: 'sum', 'Net': 'sum'}).reset_index()\n",
    "\n",
    "    # Monthly aggregation\n",
    "    monthly_data = data.groupby(data['TimePeriodStart'].dt.to_period(\"M\")).agg({meter_col: 'sum', solar_panel_col: 'sum', 'Net': 'sum'}).reset_index()\n",
    "\n",
    "    # Plot settings\n",
    "    plt.figure(figsize=(16, 8))\n",
    "    \n",
    "    # Set Seaborn style\n",
    "    sns.set_style(\"whitegrid\")\n",
    "    \n",
    "    # Plot area chart\n",
    "    # Consumption\n",
    "    plt.fill_between(daily_data['TimePeriodStart'], daily_data[meter_col], color=\"#1f77b4\", label='Consumption', alpha=0.6)\n",
    "    # Production\n",
    "    plt.fill_between(daily_data['TimePeriodStart'], 0, daily_data[solar_panel_col], color=\"#ff7f0e\", label='Production', alpha=0.6)\n",
    "    # Net (Excess/Deficit)\n",
    "    plt.fill_between(daily_data['TimePeriodStart'], 0, daily_data['Net'], color=\"#2ca02c\", label='Net (Excess/Deficit)', alpha=0.6, where=(daily_data['Net'] > 0))\n",
    "    plt.fill_between(daily_data['TimePeriodStart'], 0, daily_data['Net'], color=\"#d62728\", label='Net (Deficit)', alpha=0.6, where=(daily_data['Net'] <= 0))\n",
    "\n",
    "    plt.title(f'Daily Consumption, Production, and Net Solar Production for {meter_col}')\n",
    "    plt.ylabel('Energy (kWh)')\n",
    "    plt.xlabel('Date')\n",
    "    plt.legend(loc='upper left')\n",
    "    plt.xticks(rotation=45)\n",
    "    plt.tight_layout()\n",
    "    plt.show()"
   ]
  },
  {
   "cell_type": "markdown",
   "metadata": {},
   "source": [
    "##### 8.2.2 The loop for the consumption and production by pods"
   ]
  },
  {
   "cell_type": "code",
   "execution_count": null,
   "metadata": {},
   "outputs": [],
   "source": [
    "# Create empty dictionaries to store aggregated data for each pod\n",
    "daily_pod_data_dict = {}\n",
    "monthly_pod_data_dict = {}\n",
    "pod_energy_balance_df_dict = {}\n",
    "\n",
    "# Loop through each pod's meter and solar panel columns\n",
    "for meter, solar_panel in pods.items():\n",
    "    if solar_panel[1] in processed_data.columns:\n",
    "        \n",
    "        # Summing up consumption and production columns for each pod\n",
    "        processed_data[f'{meter}Consumption'] = processed_data[meter]\n",
    "        processed_data[f'{meter}Production'] = processed_data[solar_panel[1]]\n",
    "        \n",
    "        # Calculating Energy Balance for each pod: Positive if production > consumption, Negative otherwise\n",
    "        processed_data[f'{meter}EnergyBalance'] = processed_data[f'{meter}Production'] - processed_data[f'{meter}Consumption']\n",
    "        \n",
    "        # Aggregate this \"net energy\" for each day for each pod\n",
    "        daily_pod_data = processed_data.groupby(processed_data['TimePeriodStart'].dt.date).agg({f'{meter}Consumption': 'sum', f'{meter}Production': 'sum', f'{meter}EnergyBalance': 'sum'}).reset_index()\n",
    "        daily_pod_data['TimePeriodStart'] = pd.to_datetime(daily_pod_data['TimePeriodStart'])\n",
    "        \n",
    "        # Monthly aggregation for each pod\n",
    "        monthly_pod_data = daily_pod_data.groupby(daily_pod_data['TimePeriodStart'].dt.to_period(\"M\")).agg({f'{meter}Consumption': 'sum', f'{meter}Production': 'sum', f'{meter}EnergyBalance': 'sum'}).reset_index()\n",
    "        \n",
    "        # Store the aggregated data in the dictionaries\n",
    "        daily_pod_data_dict[meter] = daily_pod_data\n",
    "        monthly_pod_data_dict[meter] = monthly_pod_data\n",
    "        \n",
    "        # Creating a new DataFrame for the energy balances of each pod\n",
    "        pod_energy_balance_df_dict[meter] = processed_data[['TimePeriodStart', f'{meter}Consumption', f'{meter}Production', f'{meter}EnergyBalance']].copy()\n",
    "        \n",
    "        # Call the function to plot data for each pod\n",
    "        plot_and_calculate_net_area_chart(processed_data, meter, solar_panel[1])"
   ]
  },
  {
   "cell_type": "markdown",
   "metadata": {},
   "source": [
    "##### 8.2.3 Inspect and export of the total energy balance by pods"
   ]
  },
  {
   "cell_type": "code",
   "execution_count": null,
   "metadata": {},
   "outputs": [],
   "source": [
    "# Inspect and export dataframes for each pod\n",
    "for pod_meter, solar_panel in pods.items():\n",
    "    if solar_panel[1] in processed_data.columns:\n",
    "        \n",
    "        # 15-minute interval data\n",
    "        print(f\"15-minute interval data for {pod_meter}:\")\n",
    "        # du.inspect_dataframe(pod_energy_balance_df_dict[pod_meter])\n",
    "        \n",
    "        # Daily data\n",
    "        print(f\"Daily data for {pod_meter}:\")\n",
    "        # du.inspect_dataframe(daily_pod_data_dict[pod_meter])\n",
    "        \n",
    "        # Monthly data\n",
    "        print(f\"Monthly data for {pod_meter}:\")\n",
    "        # du.inspect_dataframe(monthly_pod_data_dict[pod_meter])\n",
    "        \n",
    "        # Export 15-minute interval data\n",
    "        filename = f\"{pod_meter}_energy_balance\"\n",
    "        # du.export_dataframe_to_excel(pod_energy_balance_df_dict[pod_meter], filename, EXPORT_FILE_PATH)\n",
    "        \n",
    "        # Export daily data\n",
    "        filename = f\"{pod_meter}_daily_energy_balance\"\n",
    "        # du.export_dataframe_to_excel(daily_pod_data_dict[pod_meter], filename, EXPORT_FILE_PATH)\n",
    "        \n",
    "        # Export monthly data\n",
    "        filename = f\"{pod_meter}_monthly_energy_balance\"\n",
    "        # du.export_dataframe_to_excel(monthly_pod_data_dict[pod_meter], filename, EXPORT_FILE_PATH)"
   ]
  },
  {
   "cell_type": "markdown",
   "metadata": {},
   "source": [
    "##### OLD VISUALS (TO BE DELETED)"
   ]
  },
  {
   "cell_type": "code",
   "execution_count": null,
   "metadata": {},
   "outputs": [],
   "source": [
    "# def plot_and_calculate_aggregated_net_area_chart(data, all_consumption_columns, solar_panel_columns):\n",
    "#     # Calculate the aggregated consumption and production for each interval\n",
    "#     data['Total_Consumption'] = data[all_consumption_columns].sum(axis=1)\n",
    "#     data['Total_Production'] = data[solar_panel_columns].sum(axis=1)\n",
    "    \n",
    "#     # Calculate the net energy for each interval (positive or negative)\n",
    "#     data['Net'] = data['Total_Production'] - data['Total_Consumption']\n",
    "\n",
    "#     # Aggregate these values for each day\n",
    "#     daily_data = data.groupby(data['TimePeriodStart'].dt.date).agg({'Total_Consumption': 'sum', 'Total_Production': 'sum', 'Net': 'sum'}).reset_index()\n",
    "\n",
    "#     # Plot settings\n",
    "#     plt.figure(figsize=(16, 8))\n",
    "    \n",
    "#     # Set Seaborn style\n",
    "#     sns.set_style(\"whitegrid\")\n",
    "    \n",
    "#     # Plot area chart\n",
    "#     # Consumption\n",
    "#     plt.fill_between(daily_data['TimePeriodStart'], daily_data['Total_Consumption'], color=\"#1f77b4\", label='Consumption', alpha=0.6)\n",
    "#     # Production\n",
    "#     plt.fill_between(daily_data['TimePeriodStart'], 0, daily_data['Total_Production'], color=\"#ff7f0e\", label='Production', alpha=0.6)\n",
    "#     # Net (Excess/Deficit)\n",
    "#     plt.fill_between(daily_data['TimePeriodStart'], 0, daily_data['Net'], color=\"#2ca02c\", label='Net (Excess/Deficit)', alpha=0.6, where=(daily_data['Net'] > 0))\n",
    "#     plt.fill_between(daily_data['TimePeriodStart'], 0, daily_data['Net'], color=\"#d62728\", label='Net (Deficit)', alpha=0.6, where=(daily_data['Net'] <= 0))\n",
    "\n",
    "#     plt.title('Total Daily Aggregated Consumption, Production, and Net Solar Production')\n",
    "#     plt.ylabel('Energy (kWh)')\n",
    "#     plt.xlabel('Date')\n",
    "#     plt.legend(loc='upper left')\n",
    "#     plt.xticks(rotation=45)\n",
    "#     plt.tight_layout()\n",
    "#     plt.show()\n",
    "\n",
    "# # Call the function\n",
    "# plot_and_calculate_aggregated_net_area_chart(processed_data, all_consumption_columns, solar_panel_columns)"
   ]
  },
  {
   "cell_type": "code",
   "execution_count": null,
   "metadata": {},
   "outputs": [],
   "source": [
    "# def plot_and_calculate_net_seaborn(data, meter_col, solar_panel_col):\n",
    "#     # Calculate the net energy for each interval (positive or negative)\n",
    "#     data['Net'] = data[solar_panel_col] - data[meter_col]\n",
    "\n",
    "#     # Aggregate this \"net energy\" for each day\n",
    "#     daily_data = data.groupby(data['TimePeriodStart'].dt.date).agg({meter_col: 'sum', solar_panel_col: 'sum', 'Net': 'sum'}).reset_index()\n",
    "\n",
    "#     # Aggregate the monthly consumption, production, and net balance\n",
    "#     monthly_data = data.groupby(data['TimePeriodStart'].dt.to_period(\"M\")).agg({meter_col: 'sum', solar_panel_col: 'sum', 'Net': 'sum'}).reset_index()\n",
    "\n",
    "#     # Print out the monthly summaries\n",
    "#     for index, row in monthly_data.iterrows():\n",
    "#         month = row['TimePeriodStart'].strftime('%B %Y')\n",
    "#         print(f\"Month: {month}\")\n",
    "#         print(f\"Monthly Consumption for {meter_col}: {row[meter_col]:.2f} kWh\")\n",
    "#         print(f\"Monthly Production from {solar_panel_col}: {row[solar_panel_col]:.2f} kWh\")\n",
    "#         print(f\"Net Balance (Production - Consumption) for {meter_col}: {row['Net']:.2f} kWh\")\n",
    "#         print('---')\n",
    "\n",
    "#     # Seaborn Lineplot Visualization\n",
    "#     plt.figure(figsize=(16, 8))\n",
    "#     sns.lineplot(data=daily_data, x='TimePeriodStart', y=meter_col, label='Consumption', color='#1f77b4')  # Blue\n",
    "#     sns.lineplot(data=daily_data, x='TimePeriodStart', y=solar_panel_col, label='Production', color='#ff7f0e')  # Orange\n",
    "#     sns.lineplot(data=daily_data, x='TimePeriodStart', y='Net', label='Net (Excess/Deficit)', color='skyblue')\n",
    "    \n",
    "#     plt.title(f'Daily Consumption and Net Solar Production for {meter_col}')\n",
    "#     plt.ylabel('Energy (kWh)')\n",
    "#     plt.xlabel('Date')\n",
    "#     plt.legend(loc='upper left')\n",
    "#     plt.xticks(rotation=45)\n",
    "#     plt.tight_layout()\n",
    "#     plt.show()\n",
    "\n",
    "#     # Print out total net energy\n",
    "#     total_net_energy = daily_data['Net'].sum()\n",
    "#     print(f\"Total Net Energy for {meter_col}: {total_net_energy:.2f} kWh\")\n",
    "\n",
    "# # Ensure the solar panel column exists in the data\n",
    "# for meter, solar_panel in pods.items():\n",
    "#     if solar_panel[1] in processed_data.columns:\n",
    "#         plot_and_calculate_net_seaborn(processed_data, meter, solar_panel[1])"
   ]
  },
  {
   "cell_type": "markdown",
   "metadata": {},
   "source": [
    "#### 8.3 Monthly Stacked Area Charts\n",
    "The goal of this section is to visualize the monthly energy consumption and solar production using stacked area charts. This visual representation provides insights into the magnitude of energy production and consumption over the months, as well as indicating periods of energy surplus or deficit."
   ]
  },
  {
   "cell_type": "markdown",
   "metadata": {},
   "source": [
    "##### 8.3.1 Monthly Stacked Area Chart for Total Facility\n",
    "The first chart will represent the energy dynamics for the entire facility. It will illustrate the total energy consumption and production across all pods and meters."
   ]
  },
  {
   "cell_type": "code",
   "execution_count": null,
   "metadata": {},
   "outputs": [],
   "source": [
    "def plot_monthly_stacked_area_chart_total(data, consumption_columns, production_columns):\n",
    "    # Group data by month and sum values\n",
    "    monthly_data = data.groupby(data['TimePeriodStart'].dt.to_period(\"M\"))[consumption_columns + production_columns].sum().reset_index()\n",
    "    monthly_data['TimePeriodStart'] = monthly_data['TimePeriodStart'].dt.to_timestamp()\n",
    "    \n",
    "    monthly_data['TotalConsumption'] = monthly_data[consumption_columns].sum(axis=1)\n",
    "    monthly_data['TotalProduction'] = monthly_data[production_columns].sum(axis=1)\n",
    "\n",
    "    # Calculate the monthly excess energy\n",
    "    monthly_data['Excess'] = monthly_data['TotalProduction'] - monthly_data['TotalConsumption']\n",
    "    monthly_excess = monthly_data[['TimePeriodStart', 'Excess']]\n",
    "\n",
    "    plt.figure(figsize=(16, 8))\n",
    "    plt.stackplot(monthly_data['TimePeriodStart'], monthly_data['TotalConsumption'], monthly_data['TotalProduction'], labels=['Total Consumption', 'Total Production'], alpha=0.6)\n",
    "    plt.title('Monthly Total Energy Consumption vs Total Solar Production for Facility')\n",
    "    plt.ylabel('Energy (kWh)')\n",
    "    plt.xlabel('Date')\n",
    "    plt.legend(loc='upper left')\n",
    "    plt.xticks(rotation=45)\n",
    "    plt.tight_layout()\n",
    "    plt.show()\n",
    "\n",
    "    # Print out monthly excess or deficit energy\n",
    "    for _, row in monthly_excess.iterrows():\n",
    "        if row['Excess'] < 0:\n",
    "            print(f\"Total Energy Deficit for {row['TimePeriodStart'].strftime('%B %Y')}: {-row['Excess']:.2f} kWh\")\n",
    "        else:\n",
    "            print(f\"Total Excess Energy for {row['TimePeriodStart'].strftime('%B %Y')}: {row['Excess']:.2f} kWh\")\n",
    "\n",
    "plot_monthly_stacked_area_chart_total(processed_data, all_consumption_columns, solar_panel_columns)"
   ]
  },
  {
   "cell_type": "markdown",
   "metadata": {},
   "source": [
    "##### 8.3.2 Monthly Stacked Area Charts by Pods\n",
    "Now, we'll break down the energy dynamics for each individual pod. Each chart will illustrate the energy consumption and production for a specific pod."
   ]
  },
  {
   "cell_type": "code",
   "execution_count": null,
   "metadata": {},
   "outputs": [],
   "source": [
    "def plot_monthly_stacked_area_chart_pod(data, meter_col, solar_panel_col):\n",
    "    # Calculate the net energy for each interval (positive or negative)\n",
    "    data['Net'] = data[solar_panel_col] - data[meter_col]\n",
    "\n",
    "    # Aggregate this \"net energy\" for each month\n",
    "    monthly_data = data.groupby(data['TimePeriodStart'].dt.to_period(\"M\")).agg({meter_col: 'sum', solar_panel_col: 'sum', 'Net': 'sum'}).reset_index()\n",
    "    monthly_data['TimePeriodStart'] = monthly_data['TimePeriodStart'].dt.to_timestamp()\n",
    "\n",
    "    # Calculate the monthly excess energy\n",
    "    monthly_data['Excess'] = monthly_data[solar_panel_col] - monthly_data[meter_col]\n",
    "    monthly_excess = monthly_data[['TimePeriodStart', 'Excess']]\n",
    "\n",
    "    plt.figure(figsize=(16, 8))\n",
    "    plt.stackplot(monthly_data['TimePeriodStart'], monthly_data[meter_col], monthly_data[solar_panel_col], labels=['Consumption', 'Production'], alpha=0.6)\n",
    "    plt.title(f'Monthly Energy Consumption vs Solar Production for {meter_col}')\n",
    "    plt.ylabel('Energy (kWh)')\n",
    "    plt.xlabel('Date')\n",
    "    plt.legend(loc='upper left')\n",
    "    plt.xticks(rotation=45)\n",
    "    plt.tight_layout()\n",
    "    plt.show()\n",
    "\n",
    "    # Print out monthly excess or deficit energy\n",
    "    for _, row in monthly_excess.iterrows():\n",
    "        if row['Excess'] < 0:\n",
    "            print(f\"Energy Deficit for {row['TimePeriodStart'].strftime('%B %Y')} from {meter_col}: {-row['Excess']:.2f} kWh\")\n",
    "        else:\n",
    "            print(f\"Excess Energy for {row['TimePeriodStart'].strftime('%B %Y')} from {meter_col}: {row['Excess']:.2f} kWh\")\n"
   ]
  },
  {
   "cell_type": "code",
   "execution_count": null,
   "metadata": {},
   "outputs": [],
   "source": [
    "for meter, solar_panel in pods.items():\n",
    "    if solar_panel[1] in processed_data.columns:  # Ensure the solar panel column exists\n",
    "        plot_monthly_stacked_area_chart_pod(processed_data, meter, solar_panel[1])"
   ]
  },
  {
   "cell_type": "markdown",
   "metadata": {},
   "source": [
    "### Task 9: Understanding Car Charger Energy Consumption\n",
    "In this task, we'll adjust the consumption patterns of the electric car charging circuit throughout the day. We aim to optimize car charging habits to maximize saved energy. By redistributing the charging consumption, we can ensure that energy is used more efficiently, especially during peak solar production hours.\n",
    "\n",
    "***Steps Involved:***\n",
    "1. Adjust the Charging Circuit Consumption:\n",
    "    - Adjust the consumption values of the electric car charging circuit based on specific thresholds throughout the day.\n",
    "\n",
    "2. Aggregate Total Consumption:\n",
    "    - Compute the total consumption across all meters, including electric car chargers, for every 15-minute interval.\n",
    "\n",
    "3. Smooth Out the Consumption Curve:\n",
    "    - Distribute the consumption of the charger evenly between peak solar hours to ensure a consistent power load.\n",
    "\n",
    "4. Visualization and Calculation:\n",
    "    - Compare the original and adjusted total consumption visually and quantify the energy savings resulting from the adjustments.\n"
   ]
  },
  {
   "cell_type": "markdown",
   "metadata": {},
   "source": [
    "#### 9.1 Logic and calculations for the car charger energy consumption"
   ]
  },
  {
   "cell_type": "markdown",
   "metadata": {},
   "source": [
    "##### 9.1.1 Logic for the car charger energy consumption\n",
    "\n",
    "1. ***Step: Duplicate the Original Dataframe***\n",
    "    - Before making any modifications, create a copy of the original data. This step ensures that all subsequent changes are made to this duplicated dataset, preserving the original data intact.\n",
    "\n",
    "2. ***Step: Adjust Charging Circuit Consumption Based on Time of Day***\n",
    "    - Using specific time intervals, set upper limits on the energy consumption of the electric car charging circuit.\n",
    "    - Between midnight and 10 AM, the consumption is capped at 3 kWh every 15 minutes.\n",
    "    - Between 10 AM and 3 PM, the consumption is capped at 25 kWh every 15 minutes.\n",
    "\n",
    "3. ***Step: Aggregate the Total Consumption:***\n",
    "    - Calculate the total energy consumption across all meters (including the electric car chargers) for every row (15-minute interval) in the dataset.\n",
    "\n",
    "4. ***Step: Smooth Out Midday Consumption:***\n",
    "    - Evenly distribute the consumption of the car charger during midday hours to create a more consistent load profile.\n",
    "    - Calculate the total consumption of the car charger during these hours.\n",
    "    - Compute the average consumption by dividing this total by the number of 15-minute intervals in the midday period.\n",
    "    - Distribute this average consumption evenly across all midday intervals.\n",
    "    - Update the dataset with this adjusted consumption profile and recompute the total adjusted consumption.\n",
    "\n",
    "5. Step: Visualization and Calculation:\n",
    "    - Plot the original and adjusted average consumption for each 15-minute interval throughout the day.\n",
    "    - The goal is to visually compare the original and adjusted consumption profiles and identify periods of increased or reduced energy usage.\n",
    "    - The area between the two curves is shaded to highlight the difference in consumption due to the adjustments."
   ]
  },
  {
   "cell_type": "markdown",
   "metadata": {},
   "source": [
    "##### 9.1.2 Calculations and logic for the car charger energy consumption"
   ]
  },
  {
   "cell_type": "code",
   "execution_count": null,
   "metadata": {},
   "outputs": [],
   "source": [
    "# Step 0: Adjust the Charging Circuit Consumption\n",
    "adjusted_data = processed_data.copy()\n",
    "\n",
    "# Step 1: Adjust the Charging Circuit Consumption\n",
    "adjusted_data = processed_data.copy()\n",
    "\n",
    "# Between 00:00 and 10:00, cap the consumption to 3kWh/15min.\n",
    "mask_morning = (adjusted_data['Hour'] < 10)\n",
    "adjusted_data.loc[mask_morning, electric_car_charger_columns] = adjusted_data.loc[mask_morning, electric_car_charger_columns].clip(upper=3)\n",
    "\n",
    "# Between 10:00 and 15:00, cap the consumption to 25kWh/15min.\n",
    "mask_midday = (adjusted_data['Hour'] >= 10) & (adjusted_data['Hour'] < 15)\n",
    "adjusted_data.loc[mask_midday, electric_car_charger_columns] = adjusted_data.loc[mask_midday, electric_car_charger_columns].clip(upper=25)\n",
    "\n",
    "# Step 2: Aggregate Total Consumption\n",
    "adjusted_data['TotalConsumption'] = adjusted_data[all_consumption_columns].sum(axis=1)\n",
    "\n",
    "# Step 3: Smooth Out the Consumption Curve\n",
    "total_charge_midday = adjusted_data.loc[mask_midday, electric_car_charger_columns].sum()\n",
    "num_intervals_midday = adjusted_data[mask_midday].shape[0]\n",
    "even_charge = total_charge_midday / num_intervals_midday\n",
    "\n",
    "adjusted_data.loc[mask_midday, electric_car_charger_columns] = even_charge\n",
    "adjusted_data['AdjustedTotalConsumption'] = adjusted_data[all_consumption_columns].sum(axis=1)\n",
    "\n",
    "# Calculate the total energy saved or lost after adjustments\n",
    "total_original_consumption = adjusted_data['TotalConsumption'].sum()\n",
    "total_adjusted_consumption = adjusted_data['AdjustedTotalConsumption'].sum()\n",
    "energy_difference = total_original_consumption - total_adjusted_consumption\n",
    "\n",
    "# Extract month from the 'TimePeriodStart' column\n",
    "adjusted_data['MonthYear'] = adjusted_data['TimePeriodStart'].dt.to_period('M')"
   ]
  },
  {
   "cell_type": "markdown",
   "metadata": {},
   "source": [
    "##### 9.1.3 Visual for the car charger energy consumption"
   ]
  },
  {
   "cell_type": "code",
   "execution_count": null,
   "metadata": {},
   "outputs": [],
   "source": [
    "# Step 4: Visualization and Calculation\n",
    "avg_original = adjusted_data.groupby(['Hour', 'Minute'])['TotalConsumption'].mean().reset_index()\n",
    "avg_adjusted = adjusted_data.groupby(['Hour', 'Minute'])['AdjustedTotalConsumption'].mean().reset_index()\n",
    "\n",
    "intra_day_comparison = pd.merge(avg_original, avg_adjusted, on=['Hour', 'Minute'], how='inner')\n",
    "intra_day_comparison['Time'] = intra_day_comparison['Hour'].astype(str).str.zfill(2) + ':' + intra_day_comparison['Minute'].astype(str).str.zfill(2)\n",
    "intra_day_comparison.rename(columns={\"TotalConsumption\": \"Original Average Consumption\", \"AdjustedTotalConsumption\": \"Adjusted Average Consumption\"}, inplace=True)\n",
    "\n",
    "plt.figure(figsize=(16, 8))\n",
    "\n",
    "sns.lineplot(x='Time', y='Original Average Consumption', data=intra_day_comparison, label='Original Average Consumption', linewidth=2)\n",
    "sns.lineplot(x='Time', y='Adjusted Average Consumption', data=intra_day_comparison, label='Adjusted Average Consumption', linewidth=2)\n",
    "\n",
    "plt.fill_between(intra_day_comparison['Time'], \n",
    "                 intra_day_comparison['Original Average Consumption'], \n",
    "                 intra_day_comparison['Adjusted Average Consumption'], \n",
    "                 where=(intra_day_comparison['Adjusted Average Consumption'] < intra_day_comparison['Original Average Consumption']),\n",
    "                 color='red', alpha=0.4, label='Reduced Consumption')\n",
    "plt.fill_between(intra_day_comparison['Time'], \n",
    "                 intra_day_comparison['Original Average Consumption'], \n",
    "                 intra_day_comparison['Adjusted Average Consumption'], \n",
    "                 where=(intra_day_comparison['Adjusted Average Consumption'] > intra_day_comparison['Original Average Consumption']),\n",
    "                 color='green', alpha=0.4, label='Increased Consumption')\n",
    "\n",
    "plt.xlabel('Time of Day')\n",
    "plt.ylabel('Average Consumption (kWh)')\n",
    "plt.title('Intra-day Comparison of Original and Adjusted Average Consumption')\n",
    "plt.xticks(rotation=45)\n",
    "plt.legend()\n",
    "\n",
    "plt.tight_layout()\n",
    "plt.show()"
   ]
  },
  {
   "cell_type": "markdown",
   "metadata": {},
   "source": [
    "##### 9.1.4 Monthly breakdown of savings of the adjusted consumption"
   ]
  },
  {
   "cell_type": "code",
   "execution_count": null,
   "metadata": {},
   "outputs": [],
   "source": [
    "# Group by month and compute the sum of original and adjusted consumption for each month\n",
    "monthly_sums = adjusted_data.groupby('MonthYear').agg({\n",
    "    'TotalConsumption': 'sum',\n",
    "    'AdjustedTotalConsumption': 'sum'\n",
    "}).reset_index()\n",
    "\n",
    "# Compute the monthly energy difference\n",
    "monthly_sums['MonthlyEnergyDifference'] = monthly_sums['TotalConsumption'] - monthly_sums['AdjustedTotalConsumption']\n",
    "\n",
    "# Print the saved energy by month\n",
    "for _, row in monthly_sums.iterrows():\n",
    "    month = row['MonthYear'].strftime('%B %Y')\n",
    "    difference = row['MonthlyEnergyDifference']\n",
    "    if difference > 0:\n",
    "        print(f\"Energy saved in {month}: {difference:.2f} kWh\")\n",
    "    else:\n",
    "        print(f\"Energy increased in {month}: {-difference:.2f} kWh\")"
   ]
  },
  {
   "cell_type": "markdown",
   "metadata": {},
   "source": [
    "### Task 10: Final Observations and Conclusions\n",
    "\n",
    "After analyzing various facets of the energy consumption data, it's essential to consolidate our findings, draw conclusions, and provide actionable insights. In this section, we'll summarize the key observations and suggest further steps or considerations.\n",
    "\n",
    "#TODO: Add final thoughts"
   ]
  },
  {
   "cell_type": "markdown",
   "metadata": {},
   "source": []
  }
 ],
 "metadata": {
  "kernelspec": {
   "display_name": "zengrid-analysis-4zGfngc2-py3.12",
   "language": "python",
   "name": "python3"
  },
  "language_info": {
   "codemirror_mode": {
    "name": "ipython",
    "version": 3
   },
   "file_extension": ".py",
   "mimetype": "text/x-python",
   "name": "python",
   "nbconvert_exporter": "python",
   "pygments_lexer": "ipython3",
   "version": "3.12.0"
  },
  "orig_nbformat": 4
 },
 "nbformat": 4,
 "nbformat_minor": 2
}
